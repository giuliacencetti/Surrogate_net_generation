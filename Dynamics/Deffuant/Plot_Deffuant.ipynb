{
 "cells": [
  {
   "cell_type": "code",
   "execution_count": 1,
   "metadata": {},
   "outputs": [],
   "source": [
    "import csv\n",
    "import numpy as np\n",
    "import matplotlib.pyplot as plt\n",
    "#from mycolorpy import colorlist as mcp\n",
    "import networkx as nx\n",
    "import glob \n",
    "\n",
    "import sys\n",
    "sys.path.append('../../')\n",
    "from utils import *\n",
    "from topological_metrics import get_weighted_graph"
   ]
  },
  {
   "cell_type": "code",
   "execution_count": 2,
   "metadata": {},
   "outputs": [],
   "source": [
    "#dataset = \"pr_school\";gap = 300;state_gap = 1200;nb_states_L = 3;nb_states_e = 8\n",
    "#dataset = \"h_school11\";gap = 1200;state_gap = 1200;nb_states_L = 3;nb_states_e = 7\n",
    "dataset = \"h_school13\";gap = 1200;state_gap = 1200;nb_states_L = 4;nb_states_e = 29\n",
    "#dataset = \"InVS15\"; gap = 3600; state_gap = 3600; nb_states_L = 3;nb_states_e = 12\n",
    "#dataset = \"hypertext\";gap = 1200;state_gap = 1200;nb_states_L = 3;nb_states_e = 20"
   ]
  },
  {
   "cell_type": "code",
   "execution_count": 3,
   "metadata": {},
   "outputs": [],
   "source": [
    "if dataset == 'pr_school':\n",
    "    nb_nodes = 242\n",
    "elif dataset == 'h_school11':\n",
    "    nb_nodes = 126\n",
    "elif dataset == 'h_school13':\n",
    "    nb_nodes = 327\n",
    "elif dataset == 'InVS15':\n",
    "    nb_nodes = 217\n",
    "elif dataset == 'hypertext':\n",
    "    nb_nodes = 113"
   ]
  },
  {
   "cell_type": "markdown",
   "metadata": {},
   "source": [
    "# Functions"
   ]
  },
  {
   "cell_type": "code",
   "execution_count": 4,
   "metadata": {},
   "outputs": [],
   "source": [
    "def obtain_x_final(dataset,net,q,net_idx):\n",
    "    if net == 'D':\n",
    "        filename = \"results/xf_%s_%s_q_%.2f.csv\"%(dataset,net,q)\n",
    "    else:\n",
    "        filename = \"results/xf_%s_%s_q_%.2f_%d.csv\"%(dataset,net,q,net_idx)\n",
    "    with open(filename, 'r') as csvfile:\n",
    "        spamreader = csv.reader(csvfile, delimiter=',')\n",
    "        x = []\n",
    "        for row in spamreader:\n",
    "             x.append([float(i) for i in row])\n",
    "    return x"
   ]
  },
  {
   "cell_type": "code",
   "execution_count": 5,
   "metadata": {},
   "outputs": [
    {
     "data": {
      "text/plain": [
       "\"\\npath_gen = '../../Generated_graphs/d2/'\\n\\ndef obtain_filename(dataset,path_gen,gap,nb_etn_states,nb_Lapl_states,net,net_idx):\\n    if net == 'D':\\n        filename = '../../Datasets/' + dataset + '.dat'\\n    elif net =='E':\\n        directory = path_gen + dataset + '_gap_%d_%d_etn_states'%(gap,nb_etn_states)\\n        filename = directory + '/%d.dat'%net_idx\\n    elif net =='ES':\\n        directory = path_gen + dataset + '_gap_%d_%d_etn_states_%d_Lapl_states_mu_pcl_1'%(gap,nb_etn_states,nb_Lapl_states)\\n        filename = directory + '/%d.dat'%net_idx\\n    elif net =='EST':\\n        #directory = path_gen + dataset + '_gap_%d_%d_etn_states_%d_Lapl_states_mu_pcl_1_memory_homo'%(gap,nb_etn_states,nb_Lapl_states)\\n        directory = path_gen + dataset + '_gap_%d_%d_etn_states_%d_Lapl_states_mu_pcl_1_memory_hetero'%(gap,nb_etn_states,nb_Lapl_states)\\n        filename = directory + '/%d.dat'%net_idx\\n    return filename\\n    \""
      ]
     },
     "execution_count": 5,
     "metadata": {},
     "output_type": "execute_result"
    }
   ],
   "source": [
    "'''\n",
    "path_gen = '../../Generated_graphs/d2/'\n",
    "\n",
    "def obtain_filename(dataset,path_gen,gap,nb_etn_states,nb_Lapl_states,net,net_idx):\n",
    "    if net == 'D':\n",
    "        filename = '../../Datasets/' + dataset + '.dat'\n",
    "    elif net =='E':\n",
    "        directory = path_gen + dataset + '_gap_%d_%d_etn_states'%(gap,nb_etn_states)\n",
    "        filename = directory + '/%d.dat'%net_idx\n",
    "    elif net =='ES':\n",
    "        directory = path_gen + dataset + '_gap_%d_%d_etn_states_%d_Lapl_states_mu_pcl_1'%(gap,nb_etn_states,nb_Lapl_states)\n",
    "        filename = directory + '/%d.dat'%net_idx\n",
    "    elif net =='EST':\n",
    "        #directory = path_gen + dataset + '_gap_%d_%d_etn_states_%d_Lapl_states_mu_pcl_1_memory_homo'%(gap,nb_etn_states,nb_Lapl_states)\n",
    "        directory = path_gen + dataset + '_gap_%d_%d_etn_states_%d_Lapl_states_mu_pcl_1_memory_hetero'%(gap,nb_etn_states,nb_Lapl_states)\n",
    "        filename = directory + '/%d.dat'%net_idx\n",
    "    return filename\n",
    "    '''"
   ]
  },
  {
   "cell_type": "markdown",
   "metadata": {},
   "source": [
    "# Upload results and find opinion groups"
   ]
  },
  {
   "cell_type": "code",
   "execution_count": 6,
   "metadata": {},
   "outputs": [
    {
     "data": {
      "text/plain": [
       "array([0.1 , 0.15, 0.2 , 0.25, 0.3 , 0.35, 0.4 , 0.45, 0.5 , 0.55])"
      ]
     },
     "execution_count": 6,
     "metadata": {},
     "output_type": "execute_result"
    }
   ],
   "source": [
    "q_range = np.linspace(0.1,0.55,num=10)\n",
    "q_range"
   ]
  },
  {
   "cell_type": "markdown",
   "metadata": {},
   "source": [
    "### D"
   ]
  },
  {
   "cell_type": "code",
   "execution_count": 7,
   "metadata": {},
   "outputs": [],
   "source": [
    "net = 'D'"
   ]
  },
  {
   "cell_type": "markdown",
   "metadata": {},
   "source": [
    "Load network and aggregate:"
   ]
  },
  {
   "cell_type": "code",
   "execution_count": 8,
   "metadata": {},
   "outputs": [],
   "source": [
    "edgelist_D = pd.read_csv(\"../../Datasets/\"+dataset+\".dat\",sep=\" \",names=[\"t\",\"i\",\"j\"])\n",
    "graph_D = build_graphs(edgelist_D,gap)\n",
    "Gw = get_weighted_graph(graph_D)"
   ]
  },
  {
   "cell_type": "markdown",
   "metadata": {},
   "source": [
    "Load opinions and create a network by adding the edges of the aggregated network only if the two nodes opinions differ less than $q$"
   ]
  },
  {
   "cell_type": "code",
   "execution_count": 9,
   "metadata": {},
   "outputs": [
    {
     "name": "stdout",
     "output_type": "stream",
     "text": [
      "nb simulations 200\n",
      "nb simulations 200\n",
      "nb simulations 200\n",
      "nb simulations 200\n",
      "nb simulations 200\n",
      "nb simulations 200\n",
      "nb simulations 200\n",
      "nb simulations 200\n",
      "nb simulations 200\n",
      "nb simulations 200\n"
     ]
    }
   ],
   "source": [
    "for q in q_range:\n",
    "    globals()['nb_groups_q%d'%(q*100)] = []\n",
    "    x_list = obtain_x_final(dataset,net,q,net_idx=False) # load x\n",
    "    print('nb simulations',len(x_list))\n",
    "    for x in x_list:\n",
    "        Gwx = nx.Graph()\n",
    "        for edge in Gw.edges():\n",
    "            if np.abs(x[edge[0]] - x[edge[1]]) < q:\n",
    "                Gwx.add_edges_from([(edge[0], edge[1])])\n",
    "        globals()['nb_groups_q%d'%(q*100)].append(nx.number_connected_components(Gwx)) # find conn comp"
   ]
  },
  {
   "cell_type": "markdown",
   "metadata": {},
   "source": [
    "Mean and std of nb groups over the 100 simulations"
   ]
  },
  {
   "cell_type": "code",
   "execution_count": 10,
   "metadata": {},
   "outputs": [],
   "source": [
    "nbg_mean = []\n",
    "nbg_std = []\n",
    "for q in q_range:\n",
    "    nb_groups_list = globals()['nb_groups_q%d'%(q*100)]\n",
    "    nbg_mean.append(np.mean(nb_groups_list))\n",
    "    nbg_std.append(np.std(nb_groups_list))\n",
    "globals()['nbg_mean_%s'%net] = np.array(nbg_mean)\n",
    "globals()['nbg_std_%s'%net] = np.array(nbg_std)"
   ]
  },
  {
   "cell_type": "markdown",
   "metadata": {},
   "source": [
    "### EST"
   ]
  },
  {
   "cell_type": "code",
   "execution_count": 11,
   "metadata": {},
   "outputs": [],
   "source": [
    "d = 2\n",
    "path = \"../../Generated_graphs/d%d/\"%d"
   ]
  },
  {
   "cell_type": "code",
   "execution_count": 12,
   "metadata": {},
   "outputs": [],
   "source": [
    "net = 'EST'"
   ]
  },
  {
   "cell_type": "code",
   "execution_count": 13,
   "metadata": {},
   "outputs": [
    {
     "name": "stdout",
     "output_type": "stream",
     "text": [
      "nb_surr 10\n"
     ]
    }
   ],
   "source": [
    "directory = path+\"%s_EST_gap_%d_%d_states_e_%d_states_L/\"%(dataset,gap,nb_states_e,nb_states_L)\n",
    "nb_surr = len(glob.glob1(directory,\"*.dat\"))\n",
    "print('nb_surr',nb_surr)"
   ]
  },
  {
   "cell_type": "code",
   "execution_count": 14,
   "metadata": {},
   "outputs": [],
   "source": [
    "for q in q_range:\n",
    "    globals()['nb_groups_q%d'%(q*100)] = []\n",
    "    \n",
    "for net_idx in range(nb_surr): # load network and aggregate\n",
    "    data_in = pd.read_csv(directory+\"/%d.dat\"%net_idx,sep=\" \",names=[\"t\",\"i\",\"j\"])\n",
    "    G = build_graphs(data_in,gap)\n",
    "    Gw = get_weighted_graph(G)\n",
    "    \n",
    "    # create a network by adding the edges of Gw only if the two nodes opinions differ less than q\n",
    "    for q in q_range:\n",
    "        x_list = obtain_x_final(dataset,net,q,net_idx) # load x\n",
    "        for x in x_list:\n",
    "            Gwx = nx.Graph()\n",
    "            for edge in Gw.edges():\n",
    "                if np.abs(x[edge[0]] - x[edge[1]]) < q:\n",
    "                    Gwx.add_edges_from([(edge[0], edge[1])])\n",
    "            globals()['nb_groups_q%d'%(q*100)].append(nx.number_connected_components(Gwx))# find conn comp"
   ]
  },
  {
   "cell_type": "markdown",
   "metadata": {},
   "source": [
    "Mean and std of nb groups over net_idx and the 10 simulations:"
   ]
  },
  {
   "cell_type": "code",
   "execution_count": 15,
   "metadata": {},
   "outputs": [],
   "source": [
    "nbg_mean = []\n",
    "nbg_std = []\n",
    "for q in q_range:\n",
    "    nb_groups_list = globals()['nb_groups_q%d'%(q*100)]\n",
    "    nbg_mean.append(np.mean(nb_groups_list))\n",
    "    nbg_std.append(np.std(nb_groups_list))\n",
    "globals()['nbg_mean_%s'%net] = np.array(nbg_mean)\n",
    "globals()['nbg_std_%s'%net] = np.array(nbg_std)"
   ]
  },
  {
   "cell_type": "markdown",
   "metadata": {},
   "source": [
    "### ES"
   ]
  },
  {
   "cell_type": "code",
   "execution_count": 16,
   "metadata": {},
   "outputs": [],
   "source": [
    "net = 'ES'"
   ]
  },
  {
   "cell_type": "code",
   "execution_count": 17,
   "metadata": {},
   "outputs": [
    {
     "name": "stdout",
     "output_type": "stream",
     "text": [
      "nb_surr 10\n"
     ]
    }
   ],
   "source": [
    "directory = path+\"%s_ES_gap_%d_%d_states_e_%d_states_L/\"%(dataset,gap,nb_states_e,nb_states_L)\n",
    "nb_surr = len(glob.glob1(directory,\"*.dat\"))\n",
    "print('nb_surr',nb_surr)"
   ]
  },
  {
   "cell_type": "code",
   "execution_count": 18,
   "metadata": {},
   "outputs": [],
   "source": [
    "for q in q_range:\n",
    "    globals()['nb_groups_q%d'%(q*100)] = []\n",
    "    \n",
    "for net_idx in range(nb_surr): # load network and aggregate\n",
    "    data_in = pd.read_csv(directory+\"/%d.dat\"%net_idx,sep=\" \",names=[\"t\",\"i\",\"j\"])\n",
    "    G = build_graphs(data_in,gap)\n",
    "    Gw = get_weighted_graph(G)\n",
    "    \n",
    "    # create a network by adding the edges of Gw only if the two nodes opinions differ less than q\n",
    "    for q in q_range:\n",
    "        x_list = obtain_x_final(dataset,net,q,net_idx) # load x\n",
    "        for x in x_list:\n",
    "            Gwx = nx.Graph()\n",
    "            for edge in Gw.edges():\n",
    "                if np.abs(x[edge[0]] - x[edge[1]]) < q:\n",
    "                    Gwx.add_edges_from([(edge[0], edge[1])])\n",
    "            globals()['nb_groups_q%d'%(q*100)].append(nx.number_connected_components(Gwx))# find conn comp"
   ]
  },
  {
   "cell_type": "markdown",
   "metadata": {},
   "source": [
    "Mean and std of nb groups over net_idx and the 10 simulations:"
   ]
  },
  {
   "cell_type": "code",
   "execution_count": 19,
   "metadata": {},
   "outputs": [],
   "source": [
    "nbg_mean = []\n",
    "nbg_std = []\n",
    "for q in q_range:\n",
    "    nb_groups_list = globals()['nb_groups_q%d'%(q*100)]\n",
    "    nbg_mean.append(np.mean(nb_groups_list))\n",
    "    nbg_std.append(np.std(nb_groups_list))\n",
    "globals()['nbg_mean_%s'%net] = np.array(nbg_mean)\n",
    "globals()['nbg_std_%s'%net] = np.array(nbg_std)"
   ]
  },
  {
   "cell_type": "markdown",
   "metadata": {},
   "source": [
    "### E"
   ]
  },
  {
   "cell_type": "code",
   "execution_count": 20,
   "metadata": {},
   "outputs": [],
   "source": [
    "net = 'E'"
   ]
  },
  {
   "cell_type": "code",
   "execution_count": 21,
   "metadata": {},
   "outputs": [
    {
     "name": "stdout",
     "output_type": "stream",
     "text": [
      "nb_surr 10\n"
     ]
    }
   ],
   "source": [
    "directory = path+\"%s_E_gap_%d_%d_states_e/\"%(dataset,gap,nb_states_e)\n",
    "nb_surr = len(glob.glob1(directory,\"*.dat\"))\n",
    "print('nb_surr',nb_surr)"
   ]
  },
  {
   "cell_type": "code",
   "execution_count": 22,
   "metadata": {},
   "outputs": [],
   "source": [
    "for q in q_range:\n",
    "    globals()['nb_groups_q%d'%(q*100)] = []\n",
    "    \n",
    "for net_idx in range(nb_surr): # load network and aggregate\n",
    "    data_in = pd.read_csv(directory+\"/%d.dat\"%net_idx,sep=\" \",names=[\"t\",\"i\",\"j\"])\n",
    "    G = build_graphs(data_in,gap)\n",
    "    Gw = get_weighted_graph(G)\n",
    "    \n",
    "    # create a network by adding the edges of Gw only if the two nodes opinions differ less than q\n",
    "    for q in q_range:\n",
    "        x_list = obtain_x_final(dataset,net,q,net_idx) # load x\n",
    "        for x in x_list:\n",
    "            Gwx = nx.Graph()\n",
    "            for edge in Gw.edges():\n",
    "                if np.abs(x[edge[0]] - x[edge[1]]) < q:\n",
    "                    Gwx.add_edges_from([(edge[0], edge[1])])\n",
    "            globals()['nb_groups_q%d'%(q*100)].append(nx.number_connected_components(Gwx))# find conn comp"
   ]
  },
  {
   "cell_type": "markdown",
   "metadata": {},
   "source": [
    "Mean and std of nb groups over net_idx and the 10 simulations:"
   ]
  },
  {
   "cell_type": "code",
   "execution_count": 23,
   "metadata": {},
   "outputs": [],
   "source": [
    "nbg_mean = []\n",
    "nbg_std = []\n",
    "for q in q_range:\n",
    "    nb_groups_list = globals()['nb_groups_q%d'%(q*100)]\n",
    "    nbg_mean.append(np.mean(nb_groups_list))\n",
    "    nbg_std.append(np.std(nb_groups_list))\n",
    "globals()['nbg_mean_%s'%net] = np.array(nbg_mean)\n",
    "globals()['nbg_std_%s'%net] = np.array(nbg_std)"
   ]
  },
  {
   "cell_type": "code",
   "execution_count": null,
   "metadata": {},
   "outputs": [],
   "source": []
  },
  {
   "cell_type": "markdown",
   "metadata": {},
   "source": [
    "# Plot"
   ]
  },
  {
   "cell_type": "code",
   "execution_count": 24,
   "metadata": {},
   "outputs": [],
   "source": [
    "D_color = \"#656565\"# '#545454'\n",
    "E_color = '#ffcc5c'#'#9bc995'#\"#F3AA20\" \n",
    "ES_color = '#88d8b0'#'#0f4c5c'#\"seagreen\"  \n",
    "EST_color = '#ff6f69'#'#fb8b24'# \"violet\" "
   ]
  },
  {
   "cell_type": "code",
   "execution_count": 25,
   "metadata": {},
   "outputs": [],
   "source": [
    "plt.rcParams.update({'font.size': 18})"
   ]
  },
  {
   "cell_type": "code",
   "execution_count": 26,
   "metadata": {},
   "outputs": [
    {
     "data": {
      "image/png": "[encoded data removed]",
      "text/plain": [
       "<Figure size 432x280.8 with 1 Axes>"
      ]
     },
     "metadata": {},
     "output_type": "display_data"
    }
   ],
   "source": [
    "plt.figure(figsize=(6,3.9))\n",
    "\n",
    "plt.plot(q_range,nbg_mean_D,'o-',c=D_color,label=\"D\",markersize = 12)\n",
    "plt.fill_between(q_range,nbg_mean_D+nbg_std_D,nbg_mean_D-nbg_std_D,color=D_color,alpha=0.2)\n",
    "\n",
    "plt.plot(q_range,nbg_mean_E,'v-',c=E_color,label=\"E\",markersize = 8)\n",
    "plt.fill_between(q_range,nbg_mean_E+nbg_std_E,nbg_mean_E-nbg_std_E,color=E_color,alpha=0.2)\n",
    "\n",
    "plt.plot(q_range,nbg_mean_ES,'^-',c=ES_color,label=\"ES\",markersize = 8)\n",
    "plt.fill_between(q_range,nbg_mean_ES+nbg_std_ES,nbg_mean_ES-nbg_std_ES,color=ES_color,alpha=0.2)\n",
    "\n",
    "plt.plot(q_range,nbg_mean_EST,'o-',c=EST_color,label=\"EST\",markersize = 8)\n",
    "plt.fill_between(q_range,nbg_mean_EST+nbg_std_EST,nbg_mean_EST-nbg_std_EST,color=EST_color,alpha=0.2)\n",
    "\n",
    "plt.xlabel('$q$')\n",
    "plt.ylabel('Nb of groups')\n",
    "handles, labels = plt.gca().get_legend_handles_labels()\n",
    "order = [0,3,2,1]\n",
    "plt.legend([handles[idx] for idx in order],[labels[idx] for idx in order])\n",
    "plt.tight_layout()\n",
    "\n",
    "if not os.path.exists('figs/'):\n",
    "    os.makedirs('figs/')\n",
    "plt.savefig('figs/nb_groups_%s.pdf'%(dataset))\n",
    "plt.show()"
   ]
  },
  {
   "cell_type": "markdown",
   "metadata": {},
   "source": [
    "# Plot conv time:"
   ]
  },
  {
   "cell_type": "code",
   "execution_count": 27,
   "metadata": {},
   "outputs": [],
   "source": [
    "def load_n_size_list(filename):\n",
    "    T_list_ = []\n",
    "    file=open(filename, 'r')\n",
    "    content =file.read().splitlines()\n",
    "    for time in content:\n",
    "        T_list_.append(int(time))\n",
    "    file.close()\n",
    "    \n",
    "    T_list_ = T_list_\n",
    "    return T_list_"
   ]
  },
  {
   "cell_type": "code",
   "execution_count": 28,
   "metadata": {},
   "outputs": [
    {
     "name": "stdout",
     "output_type": "stream",
     "text": [
      "D\n",
      "EST\n",
      "ES\n",
      "E\n"
     ]
    }
   ],
   "source": [
    "for net in ['D','EST','ES','E']:\n",
    "    print(net)\n",
    "    T_mean = []\n",
    "    T_std = []\n",
    "    for q in q_range:\n",
    "        filename = \"results/t_conv_%s_%s_q_%.2f.txt\"%(dataset,net,q)\n",
    "        T_list = load_n_size_list(filename)\n",
    "\n",
    "        T_mean.append(np.mean(T_list))\n",
    "        T_std.append(np.std(T_list))\n",
    "    T_mean = np.array(T_mean)\n",
    "    T_std = np.array(T_std)\n",
    "    globals()['T_mean_%s'%net] = T_mean\n",
    "    globals()['T_std_%s'%net] = T_std\n"
   ]
  },
  {
   "cell_type": "code",
   "execution_count": 29,
   "metadata": {},
   "outputs": [],
   "source": [
    "T_mean_D = T_mean_D*gap/3600\n",
    "T_std_D = T_std_D*gap/3600\n",
    "T_mean_E = T_mean_E*gap/3600\n",
    "T_std_E = T_std_E*gap/3600\n",
    "T_mean_ES = T_mean_ES*gap/3600\n",
    "T_std_ES = T_std_ES*gap/3600\n",
    "T_mean_EST = T_mean_EST*gap/3600\n",
    "T_std_EST = T_std_EST*gap/3600"
   ]
  },
  {
   "cell_type": "code",
   "execution_count": null,
   "metadata": {},
   "outputs": [],
   "source": []
  },
  {
   "cell_type": "code",
   "execution_count": 30,
   "metadata": {},
   "outputs": [
    {
     "data": {
      "image/png": "[encoded data removed]",
      "text/plain": [
       "<Figure size 432x280.8 with 1 Axes>"
      ]
     },
     "metadata": {},
     "output_type": "display_data"
    }
   ],
   "source": [
    "plt.figure(figsize=(6,3.9))\n",
    "\n",
    "plt.plot(q_range,T_mean_D,'o-',c=D_color,label=\"D\",markersize = 12)\n",
    "plt.fill_between(q_range,T_mean_D+T_std_D,T_mean_D-T_std_D,color=D_color,alpha=0.2)\n",
    "\n",
    "plt.plot(q_range,T_mean_E,'v-',c=E_color,label=\"E\",markersize = 8)\n",
    "plt.fill_between(q_range,T_mean_E+T_std_E,T_mean_E-T_std_E,color=E_color,alpha=0.2)\n",
    "\n",
    "plt.plot(q_range,T_mean_ES,'^-',c=ES_color,label=\"ES\",markersize = 8)\n",
    "plt.fill_between(q_range,T_mean_ES+T_std_ES,T_mean_ES-T_std_ES,color=ES_color,alpha=0.2)\n",
    "\n",
    "plt.plot(q_range,T_mean_EST,'o-',c=EST_color,label=\"EST\",markersize = 8)\n",
    "plt.fill_between(q_range,T_mean_EST+T_std_EST,T_mean_EST-T_std_EST,color=EST_color,alpha=0.2)\n",
    "\n",
    "handles, labels = plt.gca().get_legend_handles_labels()\n",
    "order = [0,3,2,1]\n",
    "#plt.legend([handles[idx] for idx in order],[labels[idx] for idx in order])\n",
    "\n",
    "plt.xlabel('$q$')\n",
    "plt.ylabel('Convergence Time [h]')\n",
    "plt.tight_layout()\n",
    "plt.savefig('figs/eq_time_%s.pdf'%(dataset))\n",
    "plt.show()"
   ]
  },
  {
   "cell_type": "code",
   "execution_count": null,
   "metadata": {},
   "outputs": [],
   "source": []
  },
  {
   "cell_type": "code",
   "execution_count": null,
   "metadata": {},
   "outputs": [],
   "source": []
  },
  {
   "cell_type": "code",
   "execution_count": null,
   "metadata": {},
   "outputs": [],
   "source": []
  },
  {
   "cell_type": "code",
   "execution_count": null,
   "metadata": {},
   "outputs": [],
   "source": []
  }
 ],
 "metadata": {
  "kernelspec": {
   "display_name": "Python 3",
   "language": "python",
   "name": "python3"
  },
  "language_info": {
   "codemirror_mode": {
    "name": "ipython",
    "version": 3
   },
   "file_extension": ".py",
   "mimetype": "text/x-python",
   "name": "python",
   "nbconvert_exporter": "python",
   "pygments_lexer": "ipython3",
   "version": "3.7.0"
  }
 },
 "nbformat": 4,
 "nbformat_minor": 2
}
