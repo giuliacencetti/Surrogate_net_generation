{
 "cells": [
  {
   "cell_type": "code",
   "execution_count": 26,
   "metadata": {},
   "outputs": [],
   "source": [
    "import numpy as np\n",
    "import matplotlib.pyplot as plt\n",
    "import os"
   ]
  },
  {
   "cell_type": "code",
   "execution_count": 4,
   "metadata": {},
   "outputs": [],
   "source": [
    "#dataset = \"pr_school\"\n",
    "#dataset = \"h_school11\"\n",
    "#dataset = \"h_school13\"\n",
    "#dataset = \"InVS15\"\n",
    "dataset = \"hypertext\""
   ]
  },
  {
   "cell_type": "code",
   "execution_count": null,
   "metadata": {},
   "outputs": [],
   "source": []
  },
  {
   "cell_type": "code",
   "execution_count": 5,
   "metadata": {},
   "outputs": [],
   "source": [
    "def load_R_list(filename):\n",
    "    R0_list_ = []\n",
    "    Rinf_list_ = []\n",
    "    file=open(filename, 'r')\n",
    "    content =file.read().splitlines()\n",
    "    for line in content:\n",
    "        R0, Rinf = line.split(' ',2)\n",
    "        R0_list_.append(float(R0))\n",
    "        Rinf_list_.append(float(Rinf))\n",
    "    file.close()\n",
    "    return R0_list_, Rinf_list_"
   ]
  },
  {
   "cell_type": "code",
   "execution_count": 24,
   "metadata": {},
   "outputs": [],
   "source": [
    "def plot_histograms(distr_D,distr_E,distr_ES,distr_EST,num_bin,measure,yscale):\n",
    "    \n",
    "    Min = min(min(distr_D),min(distr_E),min(distr_ES),min(distr_EST))\n",
    "    Max = max(max(distr_D),max(distr_E),max(distr_ES),max(distr_EST))\n",
    "    bin_lims = np.linspace(Min,Max,num_bin+1)\n",
    "    bin_centers = 0.5*(bin_lims[:-1]+bin_lims[1:])\n",
    "\n",
    "    ##computing the histograms\n",
    "    hist_D, _ = np.histogram(distr_D, bins=bin_lims,density=True)\n",
    "    hist_E, _ = np.histogram(distr_E, bins=bin_lims,density=True)\n",
    "    hist_ES, _ = np.histogram(distr_ES, bins=bin_lims,density=True)\n",
    "    hist_EST, _ = np.histogram(distr_EST, bins=bin_lims,density=True)\n",
    "\n",
    "    #fig, ax = plt.subplots(nrows = 1, ncols = 1,figsize=(3.5,2))\n",
    "    fig, ax = plt.subplots(nrows = 1, ncols = 1,figsize=(3.05,2.5))\n",
    "    plt.plot(bin_centers, hist_D,'o-',markersize=9, label='D',color=D_color)\n",
    "    plt.plot(bin_centers, hist_E,'v-',markersize=5, label='E',color=E_color)\n",
    "    plt.plot(bin_centers, hist_ES,'^-',markersize=5, label='ES',color=ES_color)\n",
    "    plt.plot(bin_centers, hist_EST,'o-',markersize=5, label='EST',color=EST_color)\n",
    "    if measure == 'R0':\n",
    "        ax.set_xlabel('$R_0$',fontsize=11)  \n",
    "    elif measure == 'Rinf':\n",
    "        ax.set_xlabel('$R_{\\infty}$',fontsize=11)  \n",
    "    elif measure == 'Rinfstart':\n",
    "        ax.set_xlabel('$R_{\\infty}$',fontsize=11)  \n",
    "    ax.set_xscale('linear')\n",
    "    ax.set_yscale(yscale)\n",
    "\n",
    "    handles, labels = plt.gca().get_legend_handles_labels()\n",
    "    order = [0,3,2,1]\n",
    "    plt.legend([handles[idx] for idx in order],[labels[idx] for idx in order],loc='best')\n",
    "    ax.set_title(r'$\\beta=0.02, \\mu=0.01$',fontsize=9)\n",
    "    fig.tight_layout()\n",
    "    \n",
    "    if not os.path.exists('figs/'):\n",
    "        os.makedirs('figs/')\n",
    "    filename = 'figs/distr_'+measure+'_'+dataset+'.pdf'\n",
    "    plt.savefig(filename)\n",
    "\n",
    "    plt.show()"
   ]
  },
  {
   "cell_type": "code",
   "execution_count": 19,
   "metadata": {},
   "outputs": [],
   "source": [
    "D_color = \"#656565\"\n",
    "E_color = '#ffcc5c'\n",
    "ES_color = '#88d8b0'\n",
    "EST_color = '#ff6f69'"
   ]
  },
  {
   "cell_type": "code",
   "execution_count": 20,
   "metadata": {},
   "outputs": [],
   "source": [
    "beta_range = np.logspace(-2,-1,num=10)\n",
    "mu_range = np.logspace(-2,-1,num=10)"
   ]
  },
  {
   "cell_type": "code",
   "execution_count": 21,
   "metadata": {},
   "outputs": [],
   "source": [
    "plt.rcParams.update({'font.size': 10})"
   ]
  },
  {
   "cell_type": "code",
   "execution_count": 22,
   "metadata": {},
   "outputs": [],
   "source": [
    "#beta = 0.02\n",
    "#mu = 0.01\n",
    "beta = 0.06\n",
    "mu = 0.01"
   ]
  },
  {
   "cell_type": "code",
   "execution_count": 27,
   "metadata": {},
   "outputs": [
    {
     "data": {
      "image/png": "[encoded data removed]",
      "text/plain": [
       "<Figure size 219.6x180 with 1 Axes>"
      ]
     },
     "metadata": {},
     "output_type": "display_data"
    },
    {
     "data": {
      "image/png": "[encoded data removed]",
      "text/plain": [
       "<Figure size 219.6x180 with 1 Axes>"
      ]
     },
     "metadata": {},
     "output_type": "display_data"
    }
   ],
   "source": [
    "# D:\n",
    "filename = \"results/D_pat0_random/R_%s_beta_%.3f_mu_%.3f.txt\"%(dataset,beta,mu)\n",
    "R0_D, Rinf_D = load_R_list(filename)\n",
    "Rinf_start_D = [x for x in Rinf_D if x!=1] #Rinf only if larger than 1\n",
    "# E:\n",
    "filename = \"results/E_pat0_random/R_%s_beta_%.3f_mu_%.3f.txt\"%(dataset,beta,mu)\n",
    "R0_E, Rinf_E = load_R_list(filename)\n",
    "Rinf_start_E = [x for x in Rinf_E if x!=1] #Rinf only if larger than 1\n",
    "# ES:\n",
    "filename = \"results/ES_pat0_random/R_%s_beta_%.3f_mu_%.3f.txt\"%(dataset,beta,mu)\n",
    "R0_ES, Rinf_ES = load_R_list(filename)\n",
    "Rinf_start_ES = [x for x in Rinf_ES if x!=1] #Rinf only if larger than 1\n",
    "# EST:\n",
    "filename = \"results/EST_pat0_random/R_%s_beta_%.3f_mu_%.3f.txt\"%(dataset,beta,mu)\n",
    "R0_EST, Rinf_EST = load_R_list(filename)\n",
    "Rinf_start_EST = [x for x in Rinf_EST if x!=1] #Rinf only if larger than 1\n",
    "\n",
    "plot_histograms(R0_D,R0_E,R0_ES,R0_EST,10,'R0','linear')\n",
    "\n",
    "plot_histograms(Rinf_start_D,Rinf_start_E,Rinf_start_ES,Rinf_start_EST,20,'Rinfstart','linear')\n"
   ]
  },
  {
   "cell_type": "code",
   "execution_count": null,
   "metadata": {},
   "outputs": [],
   "source": []
  }
 ],
 "metadata": {
  "kernelspec": {
   "display_name": "Python 3",
   "language": "python",
   "name": "python3"
  },
  "language_info": {
   "codemirror_mode": {
    "name": "ipython",
    "version": 3
   },
   "file_extension": ".py",
   "mimetype": "text/x-python",
   "name": "python",
   "nbconvert_exporter": "python",
   "pygments_lexer": "ipython3",
   "version": "3.7.0"
  }
 },
 "nbformat": 4,
 "nbformat_minor": 2
}
