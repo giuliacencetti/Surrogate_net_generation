{
 "cells": [
  {
   "cell_type": "markdown",
   "metadata": {},
   "source": [
    "Funziona sia per SI che per SIR, basta scegliere il valore di mu"
   ]
  },
  {
   "cell_type": "code",
   "execution_count": 1,
   "metadata": {},
   "outputs": [],
   "source": [
    "import numpy as np\n",
    "import Simple_functions_SIR as SM\n",
    "from tqdm.notebook import tqdm\n",
    "import matplotlib.pyplot as plt\n",
    "import csv\n",
    "import networkx as nx\n",
    "import random\n",
    "import pickle\n",
    "import pandas as pd\n",
    "import os\n",
    "%load_ext autoreload\n",
    "%autoreload 2\n",
    "\n",
    "import sys\n",
    "sys.path.append('../../')\n",
    "from utils import *"
   ]
  },
  {
   "cell_type": "code",
   "execution_count": 2,
   "metadata": {},
   "outputs": [],
   "source": [
    "#dataset = \"pr_school\";gap = 300;state_gap = 1200;nb_states_L = 3;nb_states_e = 8\n",
    "#dataset = \"h_school11\";gap = 1200;state_gap = 1200;nb_states_L = 3;nb_states_e = 7\n",
    "#dataset = \"h_school13\";gap = 1200;state_gap = 1200;nb_states_L = 4;nb_states_e = 29\n",
    "#dataset = \"InVS15\"; gap = 3600; state_gap = 3600; nb_states_L = 3;nb_states_e = 12\n",
    "dataset = \"hypertext\";gap = 1200;state_gap = 1200;nb_states_L = 3;nb_states_e = 20"
   ]
  },
  {
   "cell_type": "code",
   "execution_count": 3,
   "metadata": {},
   "outputs": [],
   "source": [
    "#net = 'D'\n",
    "net = 'E'\n",
    "#net = 'ES'\n",
    "#net = 'EST'"
   ]
  },
  {
   "cell_type": "markdown",
   "metadata": {},
   "source": [
    "# Functions"
   ]
  },
  {
   "cell_type": "code",
   "execution_count": 5,
   "metadata": {},
   "outputs": [],
   "source": [
    "def upload_edgelist_D(dataset,gap):\n",
    "\n",
    "    edgelist = pd.read_csv(\"../../Datasets/\"+dataset+\".dat\",sep=\" \",names=[\"t\",\"i\",\"j\"])\n",
    "    nb_nodes = max(max(edgelist.i),max(edgelist.j)) + 1\n",
    "    nodes_list = np.arange(0,nb_nodes)\n",
    "    times = [int(x/gap) for x in edgelist.t]\n",
    "    edgelist.t = times\n",
    "\n",
    "    return nodes_list,edgelist"
   ]
  },
  {
   "cell_type": "code",
   "execution_count": 6,
   "metadata": {},
   "outputs": [],
   "source": [
    "def upload_edgelist_surrogate(dataset,net,net_idx,nb_states_e,gap,nb_states_L):\n",
    "    path = '../../Generated_graphs/d2/'\n",
    "    if net == 'E':\n",
    "        directory = path+\"%s_E_gap_%d_%d_states_e/\"%(dataset,gap,nb_states_e)\n",
    "        edgelist = pd.read_csv(directory+\"/%d.dat\"%net_idx,sep=\" \",names=[\"t\",\"i\",\"j\"])\n",
    "\n",
    "    elif net == 'ES':       \n",
    "        directory = path+\"%s_ES_gap_%d_%d_states_e_%d_states_L/\"%(dataset,gap,nb_states_e,nb_states_L)\n",
    "        edgelist = pd.read_csv(directory+\"/%d.dat\"%net_idx,sep=\" \",names=[\"t\",\"i\",\"j\"])\n",
    "\n",
    "    elif net == 'EST':       \n",
    "        directory = path+\"%s_EST_gap_%d_%d_states_e_%d_states_L/\"%(dataset,gap,nb_states_e,nb_states_L)\n",
    "        edgelist = pd.read_csv(directory+\"/%d.dat\"%net_idx,sep=\" \",names=[\"t\",\"i\",\"j\"])\n",
    "    \n",
    "    nb_nodes = max(max(edgelist.i),max(edgelist.j)) + 1\n",
    "    nodes_list = np.arange(0,nb_nodes)\n",
    "    times = [int(x/gap) for x in edgelist.t]\n",
    "    edgelist.t = times\n",
    "\n",
    "    return nodes_list,edgelist"
   ]
  },
  {
   "cell_type": "code",
   "execution_count": null,
   "metadata": {},
   "outputs": [],
   "source": [
    "def obtain_edgelist_dict(data_):\n",
    "    edgelist_dict = {}\n",
    "    for t in range(max(data_.t) + 1):\n",
    "        edgelist_dict[t] = []\n",
    "    \n",
    "    for _, row in data_.iterrows():\n",
    "        if row['t'] in edgelist_dict:\n",
    "            if [row['i'],row['j']] not in edgelist_dict[row['t']]:\n",
    "                edgelist_dict[row['t']].append([row['i'],row['j']])\n",
    "            if [row['j'],row['i']] in edgelist_dict[row['t']] and row['i'] != row['j']:\n",
    "                print('error1')\n",
    "        else:\n",
    "            print('error2')\n",
    "    return edgelist_dict"
   ]
  },
  {
   "cell_type": "markdown",
   "metadata": {},
   "source": [
    "# Simulate"
   ]
  },
  {
   "cell_type": "code",
   "execution_count": 7,
   "metadata": {},
   "outputs": [],
   "source": [
    "beta_range = np.logspace(-2,-1,num=10)\n",
    "mu_range = np.logspace(-2,-1,num=10)"
   ]
  },
  {
   "cell_type": "code",
   "execution_count": 8,
   "metadata": {},
   "outputs": [],
   "source": [
    "folder = 'results/%s_pat0_random/'%net # to save results\n",
    "if not os.path.exists(folder):\n",
    "    os.makedirs(folder)"
   ]
  },
  {
   "cell_type": "code",
   "execution_count": null,
   "metadata": {},
   "outputs": [],
   "source": [
    "nb_surr = 10 # nb of generated networks\n",
    "nb_runs_surr = 20 # nb of simulations on each network (so 200 simulations in total)\n",
    "nb_runs_D = nb_surr*nb_runs_surr"
   ]
  },
  {
   "cell_type": "code",
   "execution_count": 9,
   "metadata": {},
   "outputs": [],
   "source": [
    "if net == 'D':\n",
    "\n",
    "    # Load edgelist\n",
    "    nodes_list,edgelist = upload_edgelist_D(dataset,gap)\n",
    "    edgelist_dict = obtain_edgelist_dict(edgelist)\n",
    " \n",
    "    non_empty_t = np.unique(edgelist.t)\n",
    "    \n",
    "    # Simulate\n",
    "    sm = SM.Simplagion_model(edgelist_dict,nodes_list)\n",
    "    for beta in beta_range:\n",
    "        for mu in mu_range:\n",
    "            print('beta = ',beta,'mu = ',mu)\n",
    "            \n",
    "            filenameR = \"results/%s_pat0_random/R_%s_beta_%.3f_mu_%.3f.txt\"%(net,dataset,beta,mu)\n",
    "            fileR = open(filenameR, 'a+')\n",
    "\n",
    "            for run in range(20):\n",
    "                t0 = random.choice(non_empty_t)\n",
    "                pat0 = random.choice(nodes_list)\n",
    "                sm.initialize_time0(pat0)\n",
    "                R0,Rinf = sm.simulate(beta,mu,t0) # obtain R0 and Rinf\n",
    "                fileR.write('%f %f\\n'%(R0,Rinf))\n",
    "            fileR.close()"
   ]
  },
  {
   "cell_type": "code",
   "execution_count": 11,
   "metadata": {
    "scrolled": true
   },
   "outputs": [
    {
     "data": {
      "application/vnd.jupyter.widget-view+json": {
       "model_id": "9dc6ca03ff8e45c2a010efb14d18eb3f",
       "version_major": 2,
       "version_minor": 0
      },
      "text/plain": [
       "  0%|          | 0/10 [00:00<?, ?it/s]"
      ]
     },
     "metadata": {},
     "output_type": "display_data"
    },
    {
     "name": "stdout",
     "output_type": "stream",
     "text": [
      "net_idx 0\n",
      "beta =  0.02 mu =  0.01\n",
      "net_idx 1\n",
      "beta =  0.02 mu =  0.01\n",
      "net_idx 2\n",
      "beta =  0.02 mu =  0.01\n",
      "net_idx 3\n",
      "beta =  0.02 mu =  0.01\n",
      "net_idx 4\n",
      "beta =  0.02 mu =  0.01\n",
      "net_idx 5\n",
      "beta =  0.02 mu =  0.01\n",
      "net_idx 6\n",
      "beta =  0.02 mu =  0.01\n",
      "net_idx 7\n",
      "beta =  0.02 mu =  0.01\n",
      "net_idx 8\n",
      "beta =  0.02 mu =  0.01\n",
      "net_idx 9\n",
      "beta =  0.02 mu =  0.01\n"
     ]
    },
    {
     "ename": "KeyboardInterrupt",
     "evalue": "",
     "output_type": "error",
     "traceback": [
      "\u001b[0;31m---------------------------------------------------------------------------\u001b[0m",
      "\u001b[0;31mKeyboardInterrupt\u001b[0m                         Traceback (most recent call last)",
      "\u001b[0;32m<ipython-input-11-2c599c31dcec>\u001b[0m in \u001b[0;36m<module>\u001b[0;34m()\u001b[0m\n\u001b[1;32m     30\u001b[0m                     \u001b[0mpat0\u001b[0m \u001b[0;34m=\u001b[0m \u001b[0mrandom\u001b[0m\u001b[0;34m.\u001b[0m\u001b[0mchoice\u001b[0m\u001b[0;34m(\u001b[0m\u001b[0mnodes_list\u001b[0m\u001b[0;34m)\u001b[0m\u001b[0;34m\u001b[0m\u001b[0m\n\u001b[1;32m     31\u001b[0m                     \u001b[0msm\u001b[0m\u001b[0;34m.\u001b[0m\u001b[0minitialize_time0\u001b[0m\u001b[0;34m(\u001b[0m\u001b[0mpat0\u001b[0m\u001b[0;34m)\u001b[0m\u001b[0;34m\u001b[0m\u001b[0m\n\u001b[0;32m---> 32\u001b[0;31m                     \u001b[0mR0\u001b[0m\u001b[0;34m,\u001b[0m\u001b[0mRinf\u001b[0m \u001b[0;34m=\u001b[0m \u001b[0msm\u001b[0m\u001b[0;34m.\u001b[0m\u001b[0msimulate\u001b[0m\u001b[0;34m(\u001b[0m\u001b[0mbeta\u001b[0m\u001b[0;34m,\u001b[0m\u001b[0mmu\u001b[0m\u001b[0;34m,\u001b[0m\u001b[0mt0\u001b[0m\u001b[0;34m)\u001b[0m \u001b[0;31m# obtain R0 and Rinf\u001b[0m\u001b[0;34m\u001b[0m\u001b[0m\n\u001b[0m\u001b[1;32m     33\u001b[0m                     \u001b[0mfileR\u001b[0m\u001b[0;34m.\u001b[0m\u001b[0mwrite\u001b[0m\u001b[0;34m(\u001b[0m\u001b[0;34m'%f %f\\n'\u001b[0m\u001b[0;34m%\u001b[0m\u001b[0;34m(\u001b[0m\u001b[0mR0\u001b[0m\u001b[0;34m,\u001b[0m\u001b[0mRinf\u001b[0m\u001b[0;34m)\u001b[0m\u001b[0;34m)\u001b[0m\u001b[0;34m\u001b[0m\u001b[0m\n\u001b[1;32m     34\u001b[0m                 \u001b[0mfileR\u001b[0m\u001b[0;34m.\u001b[0m\u001b[0mclose\u001b[0m\u001b[0;34m(\u001b[0m\u001b[0;34m)\u001b[0m\u001b[0;34m\u001b[0m\u001b[0m\n",
      "\u001b[0;32m~/Documents/Progetti_post_doc/Network generation/TIMING/code/github/Dynamics/SIR/Simple_functions_SIR.py\u001b[0m in \u001b[0;36msimulate\u001b[0;34m(self, beta, mu, t0)\u001b[0m\n\u001b[1;32m     76\u001b[0m                 \u001b[0mIneighs\u001b[0m \u001b[0;34m=\u001b[0m \u001b[0;34m[\u001b[0m\u001b[0mneigh\u001b[0m \u001b[0;32mfor\u001b[0m \u001b[0mneigh\u001b[0m \u001b[0;32min\u001b[0m \u001b[0mneighs\u001b[0m \u001b[0;32mif\u001b[0m \u001b[0mneigh\u001b[0m \u001b[0;32min\u001b[0m \u001b[0mset_old_inf\u001b[0m\u001b[0;34m]\u001b[0m\u001b[0;34m\u001b[0m\u001b[0m\n\u001b[1;32m     77\u001b[0m                 \u001b[0mp\u001b[0m \u001b[0;34m=\u001b[0m \u001b[0;36m1\u001b[0m \u001b[0;34m-\u001b[0m \u001b[0;34m(\u001b[0m\u001b[0;36m1\u001b[0m\u001b[0;34m-\u001b[0m\u001b[0mbeta\u001b[0m\u001b[0;34m)\u001b[0m\u001b[0;34m**\u001b[0m\u001b[0mlen\u001b[0m\u001b[0;34m(\u001b[0m\u001b[0mIneighs\u001b[0m\u001b[0;34m)\u001b[0m \u001b[0;31m# infection probability\u001b[0m\u001b[0;34m\u001b[0m\u001b[0m\n\u001b[0;32m---> 78\u001b[0;31m                 \u001b[0mr\u001b[0m \u001b[0;34m=\u001b[0m \u001b[0mnp\u001b[0m\u001b[0;34m.\u001b[0m\u001b[0mrandom\u001b[0m\u001b[0;34m.\u001b[0m\u001b[0muniform\u001b[0m\u001b[0;34m(\u001b[0m\u001b[0;36m0\u001b[0m\u001b[0;34m,\u001b[0m \u001b[0;36m1\u001b[0m\u001b[0;34m)\u001b[0m\u001b[0;34m\u001b[0m\u001b[0m\n\u001b[0m\u001b[1;32m     79\u001b[0m                 \u001b[0;32mif\u001b[0m \u001b[0mr\u001b[0m \u001b[0;34m<\u001b[0m \u001b[0mp\u001b[0m\u001b[0;34m:\u001b[0m\u001b[0;34m\u001b[0m\u001b[0m\n\u001b[1;32m     80\u001b[0m                     \u001b[0mself\u001b[0m\u001b[0;34m.\u001b[0m\u001b[0mIstate\u001b[0m\u001b[0;34m[\u001b[0m\u001b[0mi\u001b[0m\u001b[0;34m]\u001b[0m \u001b[0;34m=\u001b[0m \u001b[0;36m1\u001b[0m \u001b[0;31m# infected\u001b[0m\u001b[0;34m\u001b[0m\u001b[0m\n",
      "\u001b[0;31mKeyboardInterrupt\u001b[0m: "
     ]
    }
   ],
   "source": [
    "if net != 'D':\n",
    "    for net_idx in tqdm(range(nb_surr)): \n",
    "        print('net_idx',net_idx)\n",
    "        # Load edgelist\n",
    "        nodes_list,edgelist = upload_edgelist_surrogate(dataset,net,net_idx,nb_states_e,gap,nb_states_L)\n",
    "        edgelist_dict = obtain_edgelist_dict(edgelist)\n",
    "\n",
    "        non_empty_t = np.unique(edgelist.t)\n",
    "\n",
    "        # Simulate\n",
    "        sm = SM.Simplagion_model(edgelist_dict,nodes_list)\n",
    "        for beta in beta_range:\n",
    "            for mu in mu_range:\n",
    "                print('beta = ',beta,'mu = ',mu)\n",
    "\n",
    "                filenameR = \"results/%s_pat0_random/R_%s_beta_%.3f_mu_%.3f.txt\"%(net,dataset,beta,mu)\n",
    "                fileR = open(filenameR, 'a+')\n",
    "\n",
    "                for run in range(nb_runs_surr):\n",
    "                    t0 = random.choice(non_empty_t)\n",
    "                    pat0 = random.choice(nodes_list)\n",
    "                    sm.initialize_time0(pat0)\n",
    "                    R0,Rinf = sm.simulate(beta,mu,t0) # obtain R0 and Rinf\n",
    "                    fileR.write('%f %f\\n'%(R0,Rinf))\n",
    "                fileR.close()"
   ]
  },
  {
   "cell_type": "code",
   "execution_count": null,
   "metadata": {},
   "outputs": [],
   "source": [
    "#####################"
   ]
  },
  {
   "cell_type": "code",
   "execution_count": null,
   "metadata": {},
   "outputs": [],
   "source": []
  },
  {
   "cell_type": "code",
   "execution_count": null,
   "metadata": {},
   "outputs": [],
   "source": []
  }
 ],
 "metadata": {
  "kernelspec": {
   "display_name": "Python 3",
   "language": "python",
   "name": "python3"
  },
  "language_info": {
   "codemirror_mode": {
    "name": "ipython",
    "version": 3
   },
   "file_extension": ".py",
   "mimetype": "text/x-python",
   "name": "python",
   "nbconvert_exporter": "python",
   "pygments_lexer": "ipython3",
   "version": "3.7.0"
  }
 },
 "nbformat": 4,
 "nbformat_minor": 2
}
