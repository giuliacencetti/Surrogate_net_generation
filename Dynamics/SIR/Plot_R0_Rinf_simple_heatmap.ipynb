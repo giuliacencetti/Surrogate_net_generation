{
 "cells": [
  {
   "cell_type": "code",
   "execution_count": 26,
   "metadata": {},
   "outputs": [],
   "source": [
    "import seaborn as sns\n",
    "import numpy as np\n",
    "import matplotlib.pyplot as plt\n",
    "import os"
   ]
  },
  {
   "cell_type": "code",
   "execution_count": 2,
   "metadata": {},
   "outputs": [],
   "source": [
    "#dataset = \"pr_school\"\n",
    "#dataset = \"h_school11\"\n",
    "#dataset = \"h_school13\"\n",
    "#dataset = \"InVS15\"\n",
    "dataset = \"hypertext\""
   ]
  },
  {
   "cell_type": "code",
   "execution_count": null,
   "metadata": {},
   "outputs": [],
   "source": []
  },
  {
   "cell_type": "code",
   "execution_count": 3,
   "metadata": {},
   "outputs": [],
   "source": [
    "def load_R_list(filename):\n",
    "    R0_list_ = []\n",
    "    Rinf_list_ = []\n",
    "    file=open(filename, 'r')\n",
    "    content =file.read().splitlines()\n",
    "    for line in content:\n",
    "        R0, Rinf = line.split(' ',2)\n",
    "        R0_list_.append(float(R0))\n",
    "        Rinf_list_.append(float(Rinf))\n",
    "    file.close()\n",
    "    return R0_list_, Rinf_list_"
   ]
  },
  {
   "cell_type": "code",
   "execution_count": 4,
   "metadata": {},
   "outputs": [],
   "source": [
    "beta_range = np.logspace(-2,-1,num=10)\n",
    "mu_range = np.logspace(-2,-1,num=10)"
   ]
  },
  {
   "cell_type": "markdown",
   "metadata": {},
   "source": [
    "## Original network"
   ]
  },
  {
   "cell_type": "code",
   "execution_count": 5,
   "metadata": {},
   "outputs": [],
   "source": [
    "M_R0_D = [[0] * len(mu_range) for row in beta_range]\n",
    "M_Rinf_start_D = [[0] * len(mu_range) for row in beta_range]\n",
    "\n",
    "for i in range(len(beta_range)):\n",
    "    for j in range(len(mu_range)):\n",
    "        beta = beta_range[i]\n",
    "        mu = mu_range[j]\n",
    "        filename = \"results/D_pat0_random/R_%s_beta_%.3f_mu_%.3f.txt\"%(dataset,beta,mu)\n",
    "        R0_list, Rinf_list = load_R_list(filename)\n",
    "        M_R0_D[i][j] = np.mean(R0_list)\n",
    "        M_Rinf_start_D[i][j] = np.mean([x for x in Rinf_list if x!=1]) #Rinf only if larger than 1        "
   ]
  },
  {
   "cell_type": "code",
   "execution_count": null,
   "metadata": {},
   "outputs": [],
   "source": []
  },
  {
   "cell_type": "markdown",
   "metadata": {},
   "source": [
    "## E network"
   ]
  },
  {
   "cell_type": "code",
   "execution_count": 6,
   "metadata": {},
   "outputs": [],
   "source": [
    "M_R0_E = [[0] * len(beta_range) for row in mu_range]\n",
    "M_Rinf_start_E = [[0] * len(mu_range) for row in beta_range]\n",
    "\n",
    "for i in range(len(beta_range)):\n",
    "    for j in range(len(mu_range)):\n",
    "        beta = beta_range[i]\n",
    "        mu = mu_range[j]\n",
    "        R0_list = []\n",
    "        Rinf_list = []\n",
    "        filename = \"results/E_pat0_random/R_%s_beta_%.3f_mu_%.3f.txt\"%(dataset,beta,mu)\n",
    "        R0_list, Rinf_list = load_R_list(filename)\n",
    "        M_R0_E[i][j] = np.mean(R0_list)\n",
    "        M_Rinf_start_E[i][j] = np.mean([x for x in Rinf_list if x!=1]) #Rinf only if larger than 1\n",
    "    "
   ]
  },
  {
   "cell_type": "markdown",
   "metadata": {},
   "source": [
    "## ES network"
   ]
  },
  {
   "cell_type": "code",
   "execution_count": 7,
   "metadata": {},
   "outputs": [],
   "source": [
    "M_R0_ES = [[0] * len(beta_range) for row in mu_range]\n",
    "M_Rinf_start_ES = [[0] * len(mu_range) for row in beta_range]\n",
    "\n",
    "for i in range(len(beta_range)):\n",
    "    for j in range(len(mu_range)):\n",
    "        beta = beta_range[i]\n",
    "        mu = mu_range[j]\n",
    "        R0_list = []\n",
    "        Rinf_list = []\n",
    "        filename = \"results/ES_pat0_random/R_%s_beta_%.3f_mu_%.3f.txt\"%(dataset,beta,mu)\n",
    "        R0_list, Rinf_list = load_R_list(filename)\n",
    "        M_R0_ES[i][j] = np.mean(R0_list)\n",
    "        M_Rinf_start_ES[i][j] = np.mean([x for x in Rinf_list if x!=1]) #Rinf only if larger than 1\n"
   ]
  },
  {
   "cell_type": "markdown",
   "metadata": {},
   "source": [
    "## EST network:"
   ]
  },
  {
   "cell_type": "code",
   "execution_count": 8,
   "metadata": {},
   "outputs": [],
   "source": [
    "M_R0_EST = [[0] * len(beta_range) for row in mu_range]\n",
    "M_Rinf_start_EST = [[0] * len(mu_range) for row in beta_range]\n",
    "\n",
    "for i in range(len(beta_range)):\n",
    "    for j in range(len(mu_range)):\n",
    "        beta = beta_range[i]\n",
    "        mu = mu_range[j]\n",
    "        filename = \"results/EST_pat0_random/R_%s_beta_%.3f_mu_%.3f.txt\"%(dataset,beta,mu)\n",
    "        R0_list, Rinf_list = load_R_list(filename)\n",
    "        M_R0_EST[i][j] = np.mean(R0_list)\n",
    "        M_Rinf_start_EST[i][j] = np.mean([x for x in Rinf_list if x!=1]) #Rinf only if larger than 1\n",
    "  "
   ]
  },
  {
   "cell_type": "markdown",
   "metadata": {},
   "source": [
    "colorscale lims"
   ]
  },
  {
   "cell_type": "code",
   "execution_count": 9,
   "metadata": {},
   "outputs": [],
   "source": [
    "fixed_scale = True "
   ]
  },
  {
   "cell_type": "code",
   "execution_count": 10,
   "metadata": {},
   "outputs": [],
   "source": [
    "R0_min = min(np.array(M_R0_D).min(), np.array(M_R0_E).min(), np.array(M_R0_ES).min(), np.array(M_R0_EST).min())\n",
    "R0_max = max(np.array(M_R0_D).max(), np.array(M_R0_E).max(), np.array(M_R0_ES).max(), np.array(M_R0_EST).max())\n",
    "\n",
    "Rinf_start_min = min(np.array(M_Rinf_start_D).min(), np.array(M_Rinf_start_E).min(), np.array(M_Rinf_start_ES).min(), np.array(M_Rinf_start_EST).min())\n",
    "Rinf_start_max = max(np.array(M_Rinf_start_D).max(), np.array(M_Rinf_start_E).max(), np.array(M_Rinf_start_ES).max(), np.array(M_Rinf_start_EST).max())"
   ]
  },
  {
   "cell_type": "markdown",
   "metadata": {},
   "source": [
    "# Differences"
   ]
  },
  {
   "cell_type": "code",
   "execution_count": 11,
   "metadata": {},
   "outputs": [],
   "source": [
    "def Canberra_dist(M1,M2):\n",
    "    C = 0\n",
    "    Md = 0\n",
    "    for i in range(len(M1)):\n",
    "        for j in range(len(M1[0])):\n",
    "            den = np.abs(M1[i][j]) + np.abs(M2[i][j])\n",
    "            if den != 0:\n",
    "                C += np.abs(M1[i][j] - M2[i][j])/den\n",
    "                Md += np.abs(M1[i][j] - M2[i][j])\n",
    "                \n",
    "    d = Md/np.sum(M2)\n",
    "    return C,Md,d"
   ]
  },
  {
   "cell_type": "markdown",
   "metadata": {},
   "source": [
    "E vs original"
   ]
  },
  {
   "cell_type": "code",
   "execution_count": 12,
   "metadata": {},
   "outputs": [],
   "source": [
    "M_R0_DE = np.array(M_R0_E) - np.array(M_R0_D)\n",
    "C_R0_DE,Md_R0_DE,d_R0_DE = Canberra_dist(M_R0_E,M_R0_D)"
   ]
  },
  {
   "cell_type": "code",
   "execution_count": 15,
   "metadata": {},
   "outputs": [],
   "source": [
    "M_Rinf_start_DE = np.array(M_Rinf_start_E) - np.array(M_Rinf_start_D)\n",
    "C_Rinf_start_DE,Md_Rinf_start_DE,d_Rinf_start_DE = Canberra_dist(M_Rinf_start_E,M_Rinf_start_D)"
   ]
  },
  {
   "cell_type": "markdown",
   "metadata": {},
   "source": [
    "Clust vs original"
   ]
  },
  {
   "cell_type": "code",
   "execution_count": 16,
   "metadata": {},
   "outputs": [],
   "source": [
    "M_R0_DES = np.array(M_R0_ES) - np.array(M_R0_D)\n",
    "C_R0_DES,Md_R0_DES,d_R0_DES = Canberra_dist(M_R0_ES,M_R0_D)"
   ]
  },
  {
   "cell_type": "code",
   "execution_count": 17,
   "metadata": {},
   "outputs": [],
   "source": [
    "M_Rinf_start_DES = np.array(M_Rinf_start_ES) - np.array(M_Rinf_start_D)\n",
    "C_Rinf_start_DES,Md_Rinf_start_DES,d_Rinf_start_DES = Canberra_dist(M_Rinf_start_ES,M_Rinf_start_D)"
   ]
  },
  {
   "cell_type": "markdown",
   "metadata": {},
   "source": [
    "Memory vs original"
   ]
  },
  {
   "cell_type": "code",
   "execution_count": 18,
   "metadata": {},
   "outputs": [],
   "source": [
    "M_R0_DEST = np.array(M_R0_EST) - np.array(M_R0_D)\n",
    "C_R0_DEST,Md_R0_DEST,d_R0_DEST = Canberra_dist(M_R0_EST,M_R0_D)"
   ]
  },
  {
   "cell_type": "code",
   "execution_count": 19,
   "metadata": {},
   "outputs": [],
   "source": [
    "M_Rinf_start_DEST = np.array(M_Rinf_start_EST) - np.array(M_Rinf_start_D)\n",
    "C_Rinf_start_DEST,Md_Rinf_start_DEST,d_Rinf_start_DEST = Canberra_dist(M_Rinf_start_EST,M_Rinf_start_D)"
   ]
  },
  {
   "cell_type": "markdown",
   "metadata": {},
   "source": [
    "colorscale lims"
   ]
  },
  {
   "cell_type": "code",
   "execution_count": 20,
   "metadata": {},
   "outputs": [],
   "source": [
    "R0diff_min = min(M_R0_DE.min(), M_R0_DES.min(), M_R0_DEST.min())\n",
    "R0diff_max = max(M_R0_DE.max(), M_R0_DES.max(), M_R0_DEST.max())\n",
    "\n",
    "Rinfstart_diff_min = min(M_Rinf_start_DE.min(), M_Rinf_start_DES.min(), M_Rinf_start_DEST.min())\n",
    "Rinfstart_diff_max = max(M_Rinf_start_DE.max(), M_Rinf_start_DES.max(), M_Rinf_start_DEST.max())"
   ]
  },
  {
   "cell_type": "markdown",
   "metadata": {},
   "source": [
    "# Plot"
   ]
  },
  {
   "cell_type": "code",
   "execution_count": 28,
   "metadata": {},
   "outputs": [],
   "source": [
    "fontsize = 13"
   ]
  },
  {
   "cell_type": "code",
   "execution_count": 29,
   "metadata": {},
   "outputs": [],
   "source": [
    "plt.rcParams.update({'font.size': 10})"
   ]
  },
  {
   "cell_type": "code",
   "execution_count": 30,
   "metadata": {},
   "outputs": [],
   "source": [
    "ticks = [0.01 , '', '', 0.02, '', '', 0.05, '' , '', 0.1]"
   ]
  },
  {
   "cell_type": "code",
   "execution_count": 31,
   "metadata": {},
   "outputs": [],
   "source": [
    "def plot_matrix_panel_v2(M,minValue,maxValue,axx,title):\n",
    "    sns.heatmap(M,\n",
    "                annot=False, \n",
    "                vmin=minValue, \n",
    "                vmax=maxValue,\n",
    "                xticklabels=ticks,\n",
    "                yticklabels=ticks,\n",
    "                cmap=\"Spectral_r\",\n",
    "                cbar = False,\n",
    "                ax = axx)\n",
    "    \n",
    "    axx.tick_params(axis='x', rotation=30,labelbottom = True, bottom=True, top = False, labeltop=False)\n",
    "    axx.tick_params(axis='y', rotation=30)\n",
    "    axx.xaxis.set_label_position('bottom')\n",
    "    axx.set_xlabel(r'$\\mu$')\n",
    "    axx.set_ylabel(r'$\\beta$')\n",
    "    axx.set_title(title, fontsize=fontsize)"
   ]
  },
  {
   "cell_type": "code",
   "execution_count": 32,
   "metadata": {},
   "outputs": [],
   "source": [
    "def plot_matrix_panel_v2_cb(M,minValue,maxValue,cbar_label,axx,title,cb_ticks):\n",
    "    sns.heatmap(M,\n",
    "                annot=False, \n",
    "                vmin=minValue, \n",
    "                vmax=maxValue,\n",
    "                xticklabels=ticks,\n",
    "                yticklabels=ticks,\n",
    "                cmap=\"Spectral_r\",\n",
    "                cbar_kws={'label': cbar_label,'orientation': 'horizontal'},\n",
    "                cbar_ax=ax_bar,\n",
    "                ax = axx)\n",
    "    \n",
    "    axx.tick_params(axis='x', rotation=30,labelbottom = True, bottom=True, top = False, labeltop=False)\n",
    "    axx.tick_params(axis='y', rotation=30)\n",
    "    axx.xaxis.set_label_position('bottom')\n",
    "    ax_bar.xaxis.label.set_size(fontsize + 2)\n",
    "    ax_bar.xaxis.set_label_position('top')\n",
    "    axx.set_xlabel(r'$\\mu$')\n",
    "    axx.set_ylabel(r'$\\beta$')\n",
    "    axx.set_title(title, fontsize=fontsize)"
   ]
  },
  {
   "cell_type": "code",
   "execution_count": 33,
   "metadata": {},
   "outputs": [],
   "source": [
    "def plot_matrix_diff_panel_v2(M,minValue,maxValue,axx,title):\n",
    "    sns.heatmap(M,\n",
    "                annot=False, \n",
    "                vmin=minValue, \n",
    "                vmax=maxValue,\n",
    "                xticklabels=ticks,\n",
    "                yticklabels=ticks,\n",
    "                cmap=\"Spectral_r\",\n",
    "                center = 0.0,\n",
    "                cbar=False,\n",
    "                ax = axx)\n",
    "    axx.tick_params(axis='x', rotation=30,labelbottom = True, bottom=True, top = False, labeltop=False)\n",
    "    axx.tick_params(axis='y', rotation=30)\n",
    "    axx.xaxis.set_label_position('bottom')\n",
    "    axx.set_xlabel(r'$\\mu$')\n",
    "    axx.set_ylabel(r'$\\beta$')\n",
    "    axx.set_title(title, fontsize=fontsize)"
   ]
  },
  {
   "cell_type": "code",
   "execution_count": 34,
   "metadata": {},
   "outputs": [],
   "source": [
    "def plot_matrix_diff_panel_v2_cb(M,minValue,maxValue,cbar_label,axx,title):\n",
    "    sns.heatmap(M,\n",
    "                annot=False, \n",
    "                vmin=minValue, \n",
    "                vmax=maxValue,\n",
    "                xticklabels=ticks,\n",
    "                yticklabels=ticks,\n",
    "                cmap=\"Spectral_r\",\n",
    "                center = 0.0,\n",
    "                cbar_kws={'label': cbar_label,'orientation': 'horizontal'},\n",
    "                cbar_ax=ax_bar,\n",
    "                ax = axx)\n",
    "    axx.tick_params(axis='x', rotation=30,labelbottom = True, bottom=True, top = False, labeltop=False)\n",
    "    axx.tick_params(axis='y', rotation=30)\n",
    "    axx.xaxis.set_label_position('bottom')\n",
    "    ax_bar.xaxis.label.set_size(fontsize + 2)\n",
    "    ax_bar.xaxis.set_label_position('top')\n",
    "    axx.set_xlabel(r'$\\mu$')\n",
    "    axx.set_ylabel(r'$\\beta$')\n",
    "    axx.set_title(title, fontsize=fontsize)"
   ]
  },
  {
   "cell_type": "code",
   "execution_count": 36,
   "metadata": {},
   "outputs": [],
   "source": [
    "if not os.path.exists('figs/'):\n",
    "        os.makedirs('figs/')"
   ]
  },
  {
   "cell_type": "code",
   "execution_count": 37,
   "metadata": {},
   "outputs": [
    {
     "data": {
      "image/png": "[encoded data removed]",
      "text/plain": [
       "<Figure size 187.2x792 with 9 Axes>"
      ]
     },
     "metadata": {},
     "output_type": "display_data"
    }
   ],
   "source": [
    "fig, (ax_bar,axN0,axD,axN1,axEST,axN2,axES,axN3,axE) = plt.subplots(nrows = 9, ncols = 1,figsize=(2.6,11),\n",
    "                                                sharey=False,\n",
    "                                                gridspec_kw={'height_ratios':[0.12,0.05,1,0.3,1,0.3,1,0.3,1]})\n",
    "\n",
    "\n",
    "plot_matrix_panel_v2_cb(M_R0_D,R0_min,R0_max,'$R_0$',axD,'D',[1,2,3,4])\n",
    "plot_matrix_panel_v2(M_R0_EST,R0_min,R0_max,axEST,'EST')\n",
    "plot_matrix_panel_v2(M_R0_ES,R0_min,R0_max,axES,'ES')\n",
    "plot_matrix_panel_v2(M_R0_E,R0_min,R0_max,axE,'E')\n",
    "axN0.set_visible(False)\n",
    "axN1.set_visible(False)\n",
    "axN2.set_visible(False)\n",
    "axN3.set_visible(False)\n",
    "plt.tight_layout()\n",
    "plt.subplots_adjust(hspace=0.3)\n",
    "plt.savefig('figs/R0_heatmap_%s.pdf'%(dataset))\n",
    "plt.show()"
   ]
  },
  {
   "cell_type": "code",
   "execution_count": 38,
   "metadata": {},
   "outputs": [
    {
     "data": {
      "image/png": "[encoded data removed]",
      "text/plain": [
       "<Figure size 187.2x792 with 9 Axes>"
      ]
     },
     "metadata": {},
     "output_type": "display_data"
    }
   ],
   "source": [
    "fig, (ax_bar,axN0,axD,axN1,axEST,axN2,axES,axN3,axE) = plt.subplots(nrows = 9, ncols = 1,figsize=(2.6,11),\n",
    "                                                sharey=False,\n",
    "                                                gridspec_kw={'height_ratios':[0.12,0.05,1,0.3,1,0.3,1,0.3,1]})\n",
    "\n",
    "plot_matrix_panel_v2_cb(M_Rinf_start_D,Rinf_start_min,Rinf_start_max,'$R_{\\infty}$',axD,'D',[100,200])\n",
    "plot_matrix_panel_v2(M_Rinf_start_EST,Rinf_start_min,Rinf_start_max,axEST,'EST')\n",
    "plot_matrix_panel_v2(M_Rinf_start_ES,Rinf_start_min,Rinf_start_max,axES,'ES')\n",
    "plot_matrix_panel_v2(M_Rinf_start_E,Rinf_start_min,Rinf_start_max,axE,'E')\n",
    "axN0.set_visible(False)\n",
    "axN1.set_visible(False)\n",
    "axN2.set_visible(False)\n",
    "axN3.set_visible(False)\n",
    "plt.tight_layout()\n",
    "plt.subplots_adjust(hspace=0.3)\n",
    "plt.savefig('figs/Rinf_start_heatmap_%s.pdf'%(dataset))\n",
    "plt.show()"
   ]
  },
  {
   "cell_type": "code",
   "execution_count": 39,
   "metadata": {},
   "outputs": [
    {
     "data": {
      "image/png": "[encoded data removed]",
      "text/plain": [
       "<Figure size 183.6x596.16 with 7 Axes>"
      ]
     },
     "metadata": {},
     "output_type": "display_data"
    }
   ],
   "source": [
    "fig, (ax_bar,axN0,axEST,axN2,axES,axN3,axE) = plt.subplots(nrows = 7, ncols = 1,figsize=(2.55,8.28),\n",
    "                                                sharey=False,\n",
    "                                                gridspec_kw={'height_ratios':[0.12,0.05,1,0.3,1,0.3,1]})\n",
    "\n",
    "plot_matrix_diff_panel_v2_cb(M_R0_DE,R0diff_min,R0diff_max,\n",
    "                         '$R_0^S-R_0^D$',axE,'E-D distance %.1f'%(C_R0_DE))\n",
    "plot_matrix_diff_panel_v2(M_R0_DES,R0diff_min,R0diff_max,\n",
    "                          axES,'ES-D distance %.1f'%(C_R0_DES))\n",
    "plot_matrix_diff_panel_v2(M_R0_DEST,R0diff_min,R0diff_max,\n",
    "                          axEST,'EST-D distance %.1f'%(C_R0_DEST))\n",
    "axN0.set_visible(False)\n",
    "axN1.set_visible(False)\n",
    "axN2.set_visible(False)\n",
    "axN3.set_visible(False)\n",
    "plt.tight_layout()\n",
    "plt.subplots_adjust(hspace=0.3)\n",
    "plt.savefig('figs/R0diff_heatmap_%s.pdf'%(dataset))\n",
    "plt.show()"
   ]
  },
  {
   "cell_type": "code",
   "execution_count": 40,
   "metadata": {},
   "outputs": [
    {
     "data": {
      "image/png": "[encoded data removed]",
      "text/plain": [
       "<Figure size 183.6x596.16 with 7 Axes>"
      ]
     },
     "metadata": {},
     "output_type": "display_data"
    }
   ],
   "source": [
    "fig, (ax_bar,axN0,axEST,axN2,axES,axN3,axE) = plt.subplots(nrows = 7, ncols = 1,figsize=(2.55,8.28),\n",
    "                                                sharey=False,\n",
    "                                                gridspec_kw={'height_ratios':[0.12,0.05,1,0.3,1,0.3,1]})\n",
    "\n",
    "plot_matrix_diff_panel_v2_cb(M_Rinf_start_DE,Rinfstart_diff_min,Rinfstart_diff_max,'$R_{\\infty}^S-R_{\\infty}^D$',\n",
    "                         axE,'E-D distance %.1f'%(C_Rinf_start_DE))\n",
    "plot_matrix_diff_panel_v2(M_Rinf_start_DES,Rinfstart_diff_min,Rinfstart_diff_max,\n",
    "                         axES,'ES-D distance %.1f'%(C_Rinf_start_DES))\n",
    "plot_matrix_diff_panel_v2(M_Rinf_start_DEST,Rinfstart_diff_min,Rinfstart_diff_max,\n",
    "                         axEST,'EST-D distance %.1f'%(C_Rinf_start_DEST))\n",
    "axN0.set_visible(False)\n",
    "axN1.set_visible(False)\n",
    "axN2.set_visible(False)\n",
    "axN3.set_visible(False)\n",
    "plt.tight_layout()\n",
    "plt.subplots_adjust(hspace=0.3)\n",
    "plt.savefig('figs/Rinfstartdiff_heatmap_%s.pdf'%(dataset))\n",
    "plt.show()"
   ]
  },
  {
   "cell_type": "code",
   "execution_count": null,
   "metadata": {},
   "outputs": [],
   "source": []
  }
 ],
 "metadata": {
  "kernelspec": {
   "display_name": "Python 3",
   "language": "python",
   "name": "python3"
  },
  "language_info": {
   "codemirror_mode": {
    "name": "ipython",
    "version": 3
   },
   "file_extension": ".py",
   "mimetype": "text/x-python",
   "name": "python",
   "nbconvert_exporter": "python",
   "pygments_lexer": "ipython3",
   "version": "3.7.0"
  }
 },
 "nbformat": 4,
 "nbformat_minor": 2
}
