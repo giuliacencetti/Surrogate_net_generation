{
 "cells": [
  {
   "cell_type": "code",
   "execution_count": 1,
   "metadata": {},
   "outputs": [],
   "source": [
    "import numpy as np\n",
    "from tqdm.notebook import tqdm\n",
    "import csv\n",
    "import networkx as nx\n",
    "import random\n",
    "import pickle\n",
    "import pandas as pd\n",
    "from itertools import groupby\n",
    "from random import shuffle\n",
    "\n",
    "import sys\n",
    "sys.path.append('../../')\n",
    "from utils import *"
   ]
  },
  {
   "cell_type": "code",
   "execution_count": 2,
   "metadata": {},
   "outputs": [],
   "source": [
    "#dataset = \"pr_school\";gap = 300;state_gap = 1200;nb_states_L = 3;nb_states_e = 8\n",
    "#dataset = \"h_school11\";gap = 1200;state_gap = 1200;nb_states_L = 3;nb_states_e = 7\n",
    "#dataset = \"h_school13\";gap = 1200;state_gap = 1200;nb_states_L = 4;nb_states_e = 29\n",
    "#dataset = \"InVS15\"; gap = 3600; state_gap = 3600; nb_states_L = 3;nb_states_e = 12\n",
    "dataset = \"hypertext\";gap = 1200;state_gap = 1200;nb_states_L = 3;nb_states_e = 20"
   ]
  },
  {
   "cell_type": "code",
   "execution_count": 3,
   "metadata": {},
   "outputs": [],
   "source": [
    "path_gen = '../../Generated_graphs/d2/'"
   ]
  },
  {
   "cell_type": "markdown",
   "metadata": {},
   "source": [
    "# Functions"
   ]
  },
  {
   "cell_type": "code",
   "execution_count": 4,
   "metadata": {},
   "outputs": [],
   "source": [
    "def upload_edgelist_D(dataset,gap):\n",
    "\n",
    "    edgelist = pd.read_csv(\"../../Datasets/\"+dataset+\".dat\",sep=\" \",names=[\"t\",\"i\",\"j\"])\n",
    "    nb_nodes = max(max(edgelist.i),max(edgelist.j)) + 1\n",
    "    nodes_list = np.arange(0,nb_nodes)\n",
    "    times = [int(x/gap) for x in edgelist.t]\n",
    "    edgelist.t = times\n",
    "\n",
    "    return nodes_list,edgelist"
   ]
  },
  {
   "cell_type": "code",
   "execution_count": 5,
   "metadata": {},
   "outputs": [],
   "source": [
    "def upload_edgelist_surrogate(dataset,net,net_idx,nb_states_e,gap,nb_states_L):\n",
    "    path = '../../Generated_graphs/d2/'\n",
    "    if net == 'E':\n",
    "        directory = path+\"%s_E_gap_%d_%d_states_e/\"%(dataset,gap,nb_states_e)\n",
    "        edgelist = pd.read_csv(directory+\"/%d.dat\"%net_idx,sep=\" \",names=[\"t\",\"i\",\"j\"])\n",
    "\n",
    "    elif net == 'ES':       \n",
    "        directory = path+\"%s_ES_gap_%d_%d_states_e_%d_states_L/\"%(dataset,gap,nb_states_e,nb_states_L)\n",
    "        edgelist = pd.read_csv(directory+\"/%d.dat\"%net_idx,sep=\" \",names=[\"t\",\"i\",\"j\"])\n",
    "\n",
    "    elif net == 'EST':       \n",
    "        directory = path+\"%s_EST_gap_%d_%d_states_e_%d_states_L/\"%(dataset,gap,nb_states_e,nb_states_L)\n",
    "        edgelist = pd.read_csv(directory+\"/%d.dat\"%net_idx,sep=\" \",names=[\"t\",\"i\",\"j\"])\n",
    "    \n",
    "    nb_nodes = max(max(edgelist.i),max(edgelist.j)) + 1\n",
    "    nodes_list = np.arange(0,nb_nodes)\n",
    "    times = [int(x/gap) for x in edgelist.t]\n",
    "    edgelist.t = times\n",
    "\n",
    "    return nodes_list,edgelist"
   ]
  },
  {
   "cell_type": "code",
   "execution_count": 6,
   "metadata": {},
   "outputs": [],
   "source": [
    "def obtain_edgelist_dict(data_):\n",
    "    edgelist_t_ = {}\n",
    "    for t in range(max(data_.t) + 1):\n",
    "        edgelist_t_[t] = []\n",
    "    for _, row in data_.iterrows():\n",
    "        if row['t'] in edgelist_t_:\n",
    "            if [row['i'],row['j']] not in edgelist_t_[row['t']]:\n",
    "                edgelist_t_[row['t']].append([row['i'],row['j']])\n",
    "            if row['i'] > row['j']:\n",
    "                print('error1',row['i'],row['j'])\n",
    "        else:\n",
    "            print('error2')\n",
    "    return edgelist_t_"
   ]
  },
  {
   "cell_type": "code",
   "execution_count": 7,
   "metadata": {},
   "outputs": [],
   "source": [
    "def equalLists(lists):\n",
    "    return not lists or all(lists[0] == b for b in lists[1:])"
   ]
  },
  {
   "cell_type": "code",
   "execution_count": 8,
   "metadata": {},
   "outputs": [],
   "source": [
    "def evaluate_inventory(Inv_dict):\n",
    "    inv_A = 0\n",
    "    inv_B = 0\n",
    "    inv_AB = 0\n",
    "    for el in Inv_dict:\n",
    "        if Inv_dict[el] == ['A']:\n",
    "            inv_A += 1\n",
    "        elif Inv_dict[el] == ['B']:\n",
    "            inv_B += 1\n",
    "        elif Inv_dict[el] == ['A','B'] or Inv_dict[el] == ['B','A']:\n",
    "            inv_AB += 1\n",
    "        else:\n",
    "            print('error', Inv_dict[el])\n",
    "    return inv_A, inv_B, inv_AB"
   ]
  },
  {
   "cell_type": "code",
   "execution_count": 18,
   "metadata": {},
   "outputs": [],
   "source": [
    "def simulate(eta, t0, edgelist_t, nodes_list):\n",
    "    \n",
    "    #Initialize time 0\n",
    "    x = list(np.random.uniform(low=0, high=1, size=len(nodes_list)))\n",
    "    Inv = {} # inventory\n",
    "    for node in nodes_list:\n",
    "        if x[node] <= 0.5:\n",
    "            Inv[node] = ['A']\n",
    "        else:\n",
    "            Inv[node] = ['B']\n",
    "    t = t0\n",
    "    t_conv = 0\n",
    "    m = 0\n",
    "    for times in range(1000000):\n",
    "        shuffle(edgelist_t[t])\n",
    "        for edge in edgelist_t[t]:\n",
    "            shuffle(edge)\n",
    "            speaker = edge[0]\n",
    "            hearer = edge[1]\n",
    "            if Inv[speaker] != Inv[hearer] or len(Inv[speaker]) == 2:\n",
    "                name = random.choice(Inv[speaker])\n",
    "                if name in Inv[hearer]:\n",
    "                    r = random.uniform(0, 1)\n",
    "                    if r < eta:\n",
    "                        Inv[speaker] = [name]\n",
    "                        Inv[hearer] = [name]\n",
    "                else:\n",
    "                    Inv[hearer].append(name)\n",
    "        if not times%10:\n",
    "            inv_A, inv_B, inv_AB = evaluate_inventory(Inv)\n",
    "\n",
    "        if max(inv_A, inv_B, inv_AB) > len(nodes_list)*98/100: # stabilized\n",
    "            break\n",
    "        if equalLists(list(Inv.values())): # stabilized\n",
    "            break \n",
    "            \n",
    "        t += 1\n",
    "        if t > max(edgelist_t.keys()): # repeat temporal network if necessary\n",
    "            t = 0 \n",
    "        t_conv += 1\n",
    "\n",
    "    winner = [inv_A, inv_B, inv_AB].index(max(inv_A, inv_B, inv_AB))\n",
    "    if winner == 0:\n",
    "        final_name = 'A'\n",
    "    elif winner == 1:\n",
    "        final_name = 'B'\n",
    "    elif winner == 2:\n",
    "        final_name = 'AB'\n",
    "    return t_conv, final_name"
   ]
  },
  {
   "cell_type": "markdown",
   "metadata": {},
   "source": [
    "# Simulate"
   ]
  },
  {
   "cell_type": "code",
   "execution_count": 10,
   "metadata": {},
   "outputs": [],
   "source": [
    "folder = 'results/' # to save results\n",
    "if not os.path.exists(folder):\n",
    "    os.makedirs(folder)"
   ]
  },
  {
   "cell_type": "code",
   "execution_count": 11,
   "metadata": {},
   "outputs": [],
   "source": [
    "nb_runs = 10"
   ]
  },
  {
   "cell_type": "code",
   "execution_count": 12,
   "metadata": {},
   "outputs": [
    {
     "data": {
      "text/plain": [
       "array([0.4, 0.5, 0.6, 0.7, 0.8, 0.9, 1. ])"
      ]
     },
     "execution_count": 12,
     "metadata": {},
     "output_type": "execute_result"
    }
   ],
   "source": [
    "eta_range = np.linspace(0.4,1,num=7)\n",
    "eta_range\n"
   ]
  },
  {
   "cell_type": "markdown",
   "metadata": {},
   "source": [
    "D"
   ]
  },
  {
   "cell_type": "code",
   "execution_count": 14,
   "metadata": {},
   "outputs": [],
   "source": [
    "net = 'D'"
   ]
  },
  {
   "cell_type": "code",
   "execution_count": 19,
   "metadata": {},
   "outputs": [],
   "source": [
    "# Edgelist\n",
    "nodes_list,data = upload_edgelist_D(dataset,gap)\n",
    "edgelist_t = obtain_edgelist_dict(data)\n",
    "\n",
    "non_empty_t = np.unique(data.t)\n",
    "\n",
    "for eta in eta_range:\n",
    "    filename = \"results/%s_%s_eta_%.2f.txt\"%(dataset,net,eta)\n",
    "    file = open(filename, 'a+')\n",
    "    for runs in range(nb_runs):\n",
    "        t0 = random.choice(non_empty_t)\n",
    "        t_conv, final_name = simulate(eta, t0, edgelist_t, nodes_list)\n",
    "\n",
    "        file.write('%d %s\\n'%(t_conv, final_name))\n",
    "\n",
    "    file.close()"
   ]
  },
  {
   "cell_type": "markdown",
   "metadata": {},
   "source": [
    "surrogates"
   ]
  },
  {
   "cell_type": "code",
   "execution_count": 20,
   "metadata": {},
   "outputs": [
    {
     "name": "stdout",
     "output_type": "stream",
     "text": [
      "E\n"
     ]
    },
    {
     "data": {
      "application/vnd.jupyter.widget-view+json": {
       "model_id": "fe07dfe0b8c947a6b89dc9d914f32f5b",
       "version_major": 2,
       "version_minor": 0
      },
      "text/plain": [
       "  0%|          | 0/10 [00:00<?, ?it/s]"
      ]
     },
     "metadata": {},
     "output_type": "display_data"
    },
    {
     "name": "stdout",
     "output_type": "stream",
     "text": [
      "net_idx 0\n",
      "net_idx 1\n",
      "net_idx 2\n",
      "net_idx 3\n",
      "net_idx 4\n",
      "net_idx 5\n",
      "net_idx 6\n",
      "net_idx 7\n",
      "net_idx 8\n",
      "net_idx 9\n",
      "ES\n"
     ]
    },
    {
     "data": {
      "application/vnd.jupyter.widget-view+json": {
       "model_id": "75e83722f2e24d9db73abc0a58d1011e",
       "version_major": 2,
       "version_minor": 0
      },
      "text/plain": [
       "  0%|          | 0/10 [00:00<?, ?it/s]"
      ]
     },
     "metadata": {},
     "output_type": "display_data"
    },
    {
     "name": "stdout",
     "output_type": "stream",
     "text": [
      "net_idx 0\n",
      "net_idx 1\n",
      "net_idx 2\n",
      "net_idx 3\n",
      "net_idx 4\n",
      "net_idx 5\n",
      "net_idx 6\n",
      "net_idx 7\n",
      "net_idx 8\n",
      "net_idx 9\n",
      "EST\n"
     ]
    },
    {
     "data": {
      "application/vnd.jupyter.widget-view+json": {
       "model_id": "b6cf0cdb40624fd89fb198a5a134f8e4",
       "version_major": 2,
       "version_minor": 0
      },
      "text/plain": [
       "  0%|          | 0/10 [00:00<?, ?it/s]"
      ]
     },
     "metadata": {},
     "output_type": "display_data"
    },
    {
     "name": "stdout",
     "output_type": "stream",
     "text": [
      "net_idx 0\n",
      "net_idx 1\n",
      "net_idx 2\n",
      "net_idx 3\n",
      "net_idx 4\n",
      "net_idx 5\n",
      "net_idx 6\n",
      "net_idx 7\n",
      "net_idx 8\n",
      "net_idx 9\n"
     ]
    }
   ],
   "source": [
    "for net in ['E','ES','EST']:\n",
    "    print(net)\n",
    "    for net_idx in tqdm(range(10)):\n",
    "        # Edgelist \n",
    "        nodes_list,data = upload_edgelist_surrogate(dataset,net,net_idx,nb_states_e,gap,nb_states_L)\n",
    "        edgelist_t = obtain_edgelist_dict(data)\n",
    "        \n",
    "        non_empty_t = np.unique(data.t)\n",
    "\n",
    "        for eta in eta_range:\n",
    "            filename = \"results/%s_%s_eta_%.2f.txt\"%(dataset,net,eta)\n",
    "            file = open(filename, 'a+')\n",
    "            for runs in range(nb_runs):\n",
    "                t0 = random.choice(non_empty_t)\n",
    "                t_conv, final_name = simulate(eta, t0, edgelist_t, nodes_list)\n",
    "                file.write('%d %s\\n'%(t_conv, final_name))\n",
    "            file.close()"
   ]
  },
  {
   "cell_type": "code",
   "execution_count": null,
   "metadata": {},
   "outputs": [],
   "source": []
  },
  {
   "cell_type": "code",
   "execution_count": null,
   "metadata": {},
   "outputs": [],
   "source": []
  },
  {
   "cell_type": "code",
   "execution_count": null,
   "metadata": {},
   "outputs": [],
   "source": []
  },
  {
   "cell_type": "code",
   "execution_count": null,
   "metadata": {},
   "outputs": [],
   "source": []
  }
 ],
 "metadata": {
  "kernelspec": {
   "display_name": "Python 3",
   "language": "python",
   "name": "python3"
  },
  "language_info": {
   "codemirror_mode": {
    "name": "ipython",
    "version": 3
   },
   "file_extension": ".py",
   "mimetype": "text/x-python",
   "name": "python",
   "nbconvert_exporter": "python",
   "pygments_lexer": "ipython3",
   "version": "3.7.0"
  }
 },
 "nbformat": 4,
 "nbformat_minor": 2
}
