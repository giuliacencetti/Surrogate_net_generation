{
 "cells": [
  {
   "cell_type": "markdown",
   "metadata": {},
   "source": [
    "Find absent nodes in the original network, divided in slots of 24h"
   ]
  },
  {
   "cell_type": "code",
   "execution_count": 1,
   "metadata": {},
   "outputs": [],
   "source": [
    "import numpy as np\n",
    "import matplotlib.pyplot as plt\n",
    "import glob\n",
    "import pandas as pd\n",
    "from matplotlib.patches import Patch\n",
    "from matplotlib.lines import Line2D\n",
    "import csv\n",
    "from utils import *"
   ]
  },
  {
   "cell_type": "code",
   "execution_count": 2,
   "metadata": {},
   "outputs": [],
   "source": [
    "#dataset = \"pr_school\";gap = 300;\n",
    "#dataset = \"h_school11\";gap = 1200;\n",
    "#dataset = \"h_school13\";gap = 1200;\n",
    "#dataset = \"InVS15\"; gap = 3600; \n",
    "dataset = \"hypertext\";gap = 1200;"
   ]
  },
  {
   "cell_type": "markdown",
   "metadata": {},
   "source": [
    "Upload original network"
   ]
  },
  {
   "cell_type": "code",
   "execution_count": 3,
   "metadata": {},
   "outputs": [],
   "source": [
    "data_in = load_data(\"Datasets/\"+dataset+\".dat\")\n",
    "G_orig = build_graphs(data_in,gap=gap)"
   ]
  },
  {
   "cell_type": "code",
   "execution_count": 4,
   "metadata": {},
   "outputs": [],
   "source": [
    "nodes = G_orig[0].nodes()"
   ]
  },
  {
   "cell_type": "markdown",
   "metadata": {},
   "source": [
    "Separate into days:"
   ]
  },
  {
   "cell_type": "code",
   "execution_count": 5,
   "metadata": {},
   "outputs": [
    {
     "name": "stdout",
     "output_type": "stream",
     "text": [
      "t 41 night\n",
      "t 112 night\n"
     ]
    }
   ],
   "source": [
    "night_start = []\n",
    "edges_day = {}\n",
    "day = 0\n",
    "if list(G_orig[0].edges()) == []:\n",
    "    night = True\n",
    "else:\n",
    "    night = False\n",
    "nb_night_intervals = 0\n",
    "edges_day[0] = []\n",
    "for t in range(len(G_orig)):\n",
    "    edges_t = list(G_orig[t].edges())\n",
    "    if len(edges_t)<2 and night == False:\n",
    "        #print(t,'nessun link ma in teoria è giorno')\n",
    "        nb_night_intervals += 1\n",
    "        #print(nb_night_intervals)\n",
    "        if nb_night_intervals == 4:\n",
    "            night = True\n",
    "            print('t', t, 'night')\n",
    "            night_start.append(t)\n",
    "            day += 1\n",
    "            edges_day[day] = []\n",
    "            nb_night_intervals = 0\n",
    "    elif len(edges_t) > 5:\n",
    "        nb_night_intervals = 0\n",
    "        edges_day[day].extend(edges_t)\n",
    "        night = False\n",
    "    "
   ]
  },
  {
   "cell_type": "code",
   "execution_count": 6,
   "metadata": {},
   "outputs": [
    {
     "data": {
      "text/plain": [
       "[41, 112]"
      ]
     },
     "execution_count": 6,
     "metadata": {},
     "output_type": "execute_result"
    }
   ],
   "source": [
    "night_start"
   ]
  },
  {
   "cell_type": "code",
   "execution_count": 7,
   "metadata": {},
   "outputs": [],
   "source": [
    "nodes_day = {}\n",
    "for day in edges_day:\n",
    "    nodes_day[day] = np.unique(edges_day[day])"
   ]
  },
  {
   "cell_type": "markdown",
   "metadata": {},
   "source": [
    "Save:\n",
    "\n",
    "list of absent nodes per day\n",
    "\n",
    "list of night start times"
   ]
  },
  {
   "cell_type": "code",
   "execution_count": 8,
   "metadata": {},
   "outputs": [
    {
     "name": "stdout",
     "output_type": "stream",
     "text": [
      "abs_n [1, 4, 9, 10, 16, 36, 37, 43, 50, 54, 77, 80, 93]\n",
      "abs_n [4, 6, 11, 17, 18, 30, 49, 50, 56, 67, 86]\n",
      "abs_n [17, 18, 30, 37, 41, 42, 43, 56, 74, 78, 83, 91, 96, 104, 108, 110]\n"
     ]
    }
   ],
   "source": [
    "filename = 'Datasets/absent_nodes_days_%s.csv'%dataset\n",
    "for n in range(len(nodes_day)):\n",
    "    day = list(nodes_day.keys())[n]\n",
    "    abs_n = [node for node in nodes if node not in nodes_day[day]]\n",
    "    print('abs_n',abs_n)\n",
    "    #save_on_npy(abs_n,filename)\n",
    "    save_on_csv(filename,abs_n,'a')"
   ]
  },
  {
   "cell_type": "code",
   "execution_count": 9,
   "metadata": {},
   "outputs": [],
   "source": [
    "filename = 'Datasets/night_start_times_%s.npy'%dataset\n",
    "save_on_npy(night_start,filename)"
   ]
  },
  {
   "cell_type": "code",
   "execution_count": 10,
   "metadata": {},
   "outputs": [],
   "source": [
    "#load_list_of_lists_csv_int('Datasets/absent_nodes_days_%s.csv'%dataset)"
   ]
  },
  {
   "cell_type": "code",
   "execution_count": 11,
   "metadata": {},
   "outputs": [],
   "source": [
    "#np.load('Datasets/night_start_times_%s.npy'%dataset,allow_pickle=True)"
   ]
  },
  {
   "cell_type": "code",
   "execution_count": null,
   "metadata": {},
   "outputs": [],
   "source": []
  }
 ],
 "metadata": {
  "kernelspec": {
   "display_name": "Python 3",
   "language": "python",
   "name": "python3"
  },
  "language_info": {
   "codemirror_mode": {
    "name": "ipython",
    "version": 3
   },
   "file_extension": ".py",
   "mimetype": "text/x-python",
   "name": "python",
   "nbconvert_exporter": "python",
   "pygments_lexer": "ipython3",
   "version": "3.7.0"
  }
 },
 "nbformat": 4,
 "nbformat_minor": 2
}
