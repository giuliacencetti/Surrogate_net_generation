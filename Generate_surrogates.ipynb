{
 "cells": [
  {
   "cell_type": "code",
   "execution_count": 1,
   "metadata": {},
   "outputs": [],
   "source": [
    "import numpy as np\n",
    "import pandas as pd\n",
    "import matplotlib.pyplot as plt\n",
    "from tqdm.notebook import tqdm\n",
    "import os\n",
    "from matplotlib.lines import Line2D\n",
    "import csv\n",
    "import glob\n",
    "import networkx as nx\n",
    "\n",
    "from ETN import count_ETN, get_dict, obtain_ETN_subgraph, get_ETNS\n",
    "from ETNgen import generate_seed_graph,generate_next_layer\n",
    "from topological_metrics import get_weighted_graph\n",
    "from utils import *\n",
    "\n",
    "%load_ext autoreload\n",
    "%autoreload 2"
   ]
  },
  {
   "cell_type": "markdown",
   "metadata": {},
   "source": [
    "# Find ego-subgraphs in original network"
   ]
  },
  {
   "cell_type": "markdown",
   "metadata": {},
   "source": [
    "Characteristics of the datasets found in Detect_temporal_states_and_communities.ipynb"
   ]
  },
  {
   "cell_type": "code",
   "execution_count": 2,
   "metadata": {},
   "outputs": [],
   "source": [
    "#dataset = \"pr_school\";gap = 300;state_L_gap = 1200;state_e_gap = 1200;nb_states_L = 3;nb_states_e = 8\n",
    "#dataset = \"h_school11\";gap = 1200;state_L_gap = 1200;state_e_gap = 1200;nb_states_L = 3;nb_states_e = 7\n",
    "#dataset = \"h_school13\";gap = 1200;state_L_gap = 1200;state_e_gap = 1200;nb_states_L = 4;nb_states_e = 29\n",
    "#dataset = \"InVS15\";gap = 3600;state_L_gap = 3600;state_e_gap = 3600;nb_states_L = 3;nb_states_e = 12\n",
    "dataset = \"hypertext\";gap = 1200;state_L_gap = 1200;state_e_gap = 1200;nb_states_L = 3;nb_states_e = 20"
   ]
  },
  {
   "cell_type": "markdown",
   "metadata": {},
   "source": [
    "Load original network as an array of static graphs"
   ]
  },
  {
   "cell_type": "code",
   "execution_count": 3,
   "metadata": {},
   "outputs": [
    {
     "data": {
      "text/plain": [
       "177"
      ]
     },
     "execution_count": 3,
     "metadata": {},
     "output_type": "execute_result"
    }
   ],
   "source": [
    "data_in = load_data(\"Datasets/\"+dataset+\".dat\")\n",
    "orig_graph = build_graphs(data_in,gap=gap)\n",
    "len(orig_graph)"
   ]
  },
  {
   "cell_type": "code",
   "execution_count": 4,
   "metadata": {},
   "outputs": [],
   "source": [
    "d = 2"
   ]
  },
  {
   "cell_type": "markdown",
   "metadata": {},
   "source": [
    "Split the graph according to states"
   ]
  },
  {
   "cell_type": "code",
   "execution_count": 5,
   "metadata": {},
   "outputs": [],
   "source": [
    "states_e_directory = 'Datasets/etn_states_%s_gap_%d_%dstates/'%(dataset,state_e_gap,nb_states_e)\n",
    "states_e = np.load(states_e_directory+'states.npy')\n",
    "if len(states_e) < len(orig_graph)*gap/state_e_gap:\n",
    "    states_e = list(states_e) + [states_e[-1]]"
   ]
  },
  {
   "cell_type": "markdown",
   "metadata": {},
   "source": [
    "Assign the state $s_e$ to each snapshot $t$"
   ]
  },
  {
   "cell_type": "code",
   "execution_count": 6,
   "metadata": {},
   "outputs": [],
   "source": [
    "r = int(round(state_e_gap/gap))\n",
    "state_e_this_t = np.full(len(orig_graph),0)\n",
    "for t in range(len(orig_graph) - d):\n",
    "    st = int(t/r)\n",
    "    state_e_this_t[t] = int(states_e[st])"
   ]
  },
  {
   "cell_type": "markdown",
   "metadata": {},
   "source": [
    "Assign the snapshot index $t$ to each state $s_e$"
   ]
  },
  {
   "cell_type": "code",
   "execution_count": 7,
   "metadata": {},
   "outputs": [],
   "source": [
    "state_times = {}\n",
    "for s in np.unique(state_e_this_t):\n",
    "    state_times[s] = [i for i,x in enumerate(state_e_this_t) if x==s]"
   ]
  },
  {
   "cell_type": "markdown",
   "metadata": {},
   "source": [
    "Count ego-subgraphs and store them in dictionaries (one for each state)"
   ]
  },
  {
   "cell_type": "code",
   "execution_count": 8,
   "metadata": {},
   "outputs": [],
   "source": [
    "dizs = []\n",
    "for s in np.unique(states_e):\n",
    "    ETNS_dict = dict()\n",
    "    for t in state_times[s]:\n",
    "        graphs = orig_graph[t:t+d+1] # snapshot t and the next d\n",
    "        for v in graphs[0].nodes():\n",
    "            etn = obtain_ETN_subgraph(graphs,v)\n",
    "            if not etn == None:\n",
    "                etns,_ = get_ETNS(etn)\n",
    "                if etns in ETNS_dict.keys():\n",
    "                    ETNS_dict[etns] = ETNS_dict[etns] + 1\n",
    "                else:\n",
    "                    ETNS_dict[etns] = 1\n",
    "    diz = get_dict(ETNS_dict,d)\n",
    "    dizs.append(diz)"
   ]
  },
  {
   "cell_type": "markdown",
   "metadata": {},
   "source": [
    "# Generate the surrogate networks"
   ]
  },
  {
   "cell_type": "markdown",
   "metadata": {},
   "source": [
    "### Generation features"
   ]
  },
  {
   "cell_type": "markdown",
   "metadata": {},
   "source": [
    "Choose the length of the temporal graph"
   ]
  },
  {
   "cell_type": "code",
   "execution_count": 9,
   "metadata": {},
   "outputs": [],
   "source": [
    "nb_graphs = len(orig_graph)"
   ]
  },
  {
   "cell_type": "markdown",
   "metadata": {},
   "source": [
    "Choose the type of surrogate: 'E', 'ES', or 'EST'"
   ]
  },
  {
   "cell_type": "code",
   "execution_count": 10,
   "metadata": {},
   "outputs": [],
   "source": [
    "net = 'EST' #'ES', 'E'"
   ]
  },
  {
   "cell_type": "code",
   "execution_count": 11,
   "metadata": {},
   "outputs": [],
   "source": [
    "if net == 'E':\n",
    "    classes_ = 0\n",
    "    chi_ = 0\n",
    "    p_cl_ = 0    \n",
    "        \n",
    "elif net == 'ES' or net == 'EST':\n",
    "    states_L_directory = 'Datasets/Lapl_states_%s_gap_%d_%dstates/'%(dataset,state_L_gap,nb_states_L)\n",
    "    states_L = np.load(states_L_directory+'states.npy')\n",
    "    #Assign the state s_L to each snapshot t\n",
    "    r = int(round(state_L_gap/gap))\n",
    "    state_L_this_t = np.full(len(orig_graph),0)\n",
    "    for t in range(len(orig_graph)):\n",
    "        st = int(t/r)\n",
    "        state_L_this_t[t] = int(states_L[st])\n",
    "    # Upload classes\n",
    "    classes_ = []\n",
    "    for s in range(len(glob.glob1(states_L_directory,\"classes*_orig_gap_%d.npy\"%gap))):\n",
    "        globals()['classes%d'%s] = np.load(states_L_directory+'classes%d_orig_gap_%d.npy'%(s,gap),allow_pickle=True).item()\n",
    "        classes_.append(globals()['classes%d'%(s)])\n",
    "    chi_ = np.load(states_L_directory+'chi_orig_gap_%d.npy'%gap,allow_pickle=True)\n",
    "    "
   ]
  },
  {
   "cell_type": "markdown",
   "metadata": {},
   "source": [
    "Choose if to consider absent nodes or not. Considering them means uploading the file (generated by Find_absent_nodes.ipynb) of absent nodes, here organized per days, and exclude absent nodes when generating the corresponding days. \n",
    "\n",
    "This is not mandatory, the network can be generated also making all the nodes participate to the network every day. In case, choose abs_nodes_flag = False."
   ]
  },
  {
   "cell_type": "code",
   "execution_count": 12,
   "metadata": {},
   "outputs": [],
   "source": [
    "abs_nodes_flag = True"
   ]
  },
  {
   "cell_type": "code",
   "execution_count": 13,
   "metadata": {},
   "outputs": [],
   "source": [
    "if abs_nodes_flag:\n",
    "    abs_nodes = load_list_of_lists_csv_int('Datasets/absent_nodes_days_%s.csv'%dataset)\n",
    "    nights_start = np.load('Datasets/night_start_times_%s.npy'%dataset,allow_pickle=True)\n",
    "    nb_days = len(abs_nodes)\n",
    "else:\n",
    "    abs_nodes = [[]]"
   ]
  },
  {
   "cell_type": "code",
   "execution_count": null,
   "metadata": {},
   "outputs": [],
   "source": []
  },
  {
   "cell_type": "markdown",
   "metadata": {},
   "source": [
    "### Generate "
   ]
  },
  {
   "cell_type": "code",
   "execution_count": 14,
   "metadata": {},
   "outputs": [],
   "source": [
    "def update_name(dataset,gap,net):\n",
    "    \n",
    "    new_temporal_graph_name = dataset +'_%s_gap_%d_%d_states_e'%(net,gap,nb_states_e)       \n",
    "    if net != 'E':\n",
    "        new_temporal_graph_name = new_temporal_graph_name + '_%d_states_L'%nb_states_L\n",
    "    return new_temporal_graph_name"
   ]
  },
  {
   "cell_type": "code",
   "execution_count": 15,
   "metadata": {},
   "outputs": [],
   "source": [
    "def generate_and_store_E(orig_graph,d,nb_graphs,dizs,gap,dataset):\n",
    "    \n",
    "    # INITIALIZE --------------------------------------------------------------------------------- \n",
    "    day = 0\n",
    "    Params = {'clust_modul': False,\n",
    "              'memory': False,\n",
    "              'absent_nodes': abs_nodes[0]}\n",
    "    edge_list = []\n",
    "    \n",
    "    # SEED GRAPH---------------------------------------------------------------------------------\n",
    "    g0 = nx.configuration_model(list(dict(orig_graph[0].degree()).values())) # first layer: configuration model\n",
    "    graph_seed = generate_seed_graph(orig_graph,g0,d,Params)\n",
    "    # store seed:\n",
    "    for t in range(d):\n",
    "        edges = list(graph_seed[t].edges())\n",
    "        for a,b in edges:\n",
    "            edge_list.append([(t)*gap,a,b])\n",
    "    nodes = list(graph_seed[0].nodes())\n",
    "    temp_graph = graph_seed\n",
    "            \n",
    "    # GENERATE--------------------------------------------------------------------------------- \n",
    "    for time in tqdm(range(len(graph_seed),nb_graphs)):\n",
    "        diz = dizs[state_e_this_t[time-d]] \n",
    "        graphs_in = temp_graph[time-d:time]\n",
    "        g_new = generate_next_layer(nodes,graphs_in,diz,d,Params)\n",
    "        temp_graph.append(g_new)\n",
    "        \n",
    "        edges = list(g_new.edges())\n",
    "        for a,b in edges:\n",
    "            edge_list.append([time*gap,a,b])\n",
    "            \n",
    "        # absent nodes\n",
    "        if abs_nodes_flag:\n",
    "            if day < nb_days - 1:\n",
    "                if time == nights_start[day]:\n",
    "                    day += 1\n",
    "                    Params['absent_nodes'] = abs_nodes[day]\n",
    "    edge_list.append([time*gap,0,0])\n",
    "    \n",
    "    # SAVE--------------------------------------------------------------------------------- \n",
    "    new_temporal_graph_name = update_name(dataset,gap,net)\n",
    "    directory = \"Generated_graphs/d%d/\"%d+new_temporal_graph_name\n",
    "    print('directory',directory)\n",
    "    if not os.path.exists(directory):\n",
    "        os.makedirs(directory)\n",
    "    df_edge_list = pd.DataFrame(edge_list,columns=[\"time\",\"node_A\",\"node_B\"])\n",
    "    df_edge_list.to_csv(directory+\"/%d.dat\"%run,sep=\" \",index=False,header=False)\n",
    "    \n",
    "    return temp_graph,edge_list"
   ]
  },
  {
   "cell_type": "code",
   "execution_count": 16,
   "metadata": {},
   "outputs": [],
   "source": [
    "def generate_and_store_ES(orig_graph,d,nb_graphs,dizs,gap,dataset,classes_,chi_,state_L_this_t):\n",
    "        \n",
    "    # INITIALIZE --------------------------------------------------------------------------------- \n",
    "    day = 0\n",
    "    chi = chi_[state_L_this_t[0]]\n",
    "    classes = classes_[state_L_this_t[0]]\n",
    "    Params = {'clust_modul': True,\n",
    "              'classes': classes,\n",
    "              'chi': chi,\n",
    "              #'c': c # put c<1 if want to reproduce a reduced clustering\n",
    "              'memory': False,\n",
    "              'state': state_L_this_t[0],\n",
    "              'absent_nodes': abs_nodes[0]}\n",
    "    edge_list = []\n",
    "    \n",
    "    # SEED GRAPH---------------------------------------------------------------------------------\n",
    "    g0 = nx.configuration_model(list(dict(orig_graph[0].degree()).values())) # first layer: configuration model\n",
    "    graph_seed = generate_seed_graph(orig_graph,g0,d,Params)\n",
    "    # save seed:\n",
    "    for t in range(d):\n",
    "        edges = list(graph_seed[t].edges())\n",
    "        for a,b in edges:\n",
    "            edge_list.append([(t)*gap,a,b])\n",
    "    nodes = list(graph_seed[0].nodes())\n",
    "    temp_graph = graph_seed   \n",
    "    \n",
    "    # GENERATE---------------------------------------------------------------------------------     \n",
    "    for time in tqdm(range(len(graph_seed),nb_graphs)):\n",
    "        diz = dizs[state_e_this_t[time - d]] \n",
    "        Params['chi'] = chi_[state_L_this_t[time]]\n",
    "        Params['classes'] = classes_[state_L_this_t[time]]\n",
    "        Params['state'] = state_L_this_t[time]\n",
    "            \n",
    "        graphs_in = temp_graph[time - d:time]\n",
    "        g_new = generate_next_layer(nodes,graphs_in,diz,d,Params)\n",
    "        \n",
    "        temp_graph.append(g_new)\n",
    "        \n",
    "        edges = list(g_new.edges())\n",
    "        for a,b in edges:\n",
    "            edge_list.append([time*gap,a,b])\n",
    "            \n",
    "        # absent nodes\n",
    "        if abs_nodes_flag:\n",
    "            if day < nb_days - 1:\n",
    "                if time == nights_start[day]:\n",
    "                    day += 1\n",
    "                    Params['absent_nodes'] = abs_nodes[day]\n",
    "    edge_list.append([time*gap,0,0])\n",
    "    \n",
    "    # SAVE--------------------------------------------------------------------------------- \n",
    "    new_temporal_graph_name = update_name(dataset,gap,net)\n",
    "    directory = \"Generated_graphs/d%d/\"%d+new_temporal_graph_name\n",
    "    print('directory',directory)\n",
    "    if not os.path.exists(directory):\n",
    "        os.makedirs(directory)\n",
    "    df_edge_list = pd.DataFrame(edge_list,columns=[\"time\",\"node_A\",\"node_B\"])\n",
    "    df_edge_list.to_csv(directory+\"/%d.dat\"%run,sep=\" \",index=False,header=False)\n",
    "    \n",
    "    return temp_graph,edge_list"
   ]
  },
  {
   "cell_type": "code",
   "execution_count": 17,
   "metadata": {},
   "outputs": [],
   "source": [
    "def generate_and_store_EST(orig_graph,d,nb_graphs,dizs,gap,dataset,classes_,chi_,state_L_this_t):\n",
    "        \n",
    "    # INITIALIZE ---------------------------------------------------------------------------------\n",
    "    #################\n",
    "    day = 0\n",
    "    #################\n",
    "    chi = chi_[state_L_this_t[0]]\n",
    "    classes = classes_[state_L_this_t[0]]\n",
    "    \n",
    "    G0 = nx.Graph()\n",
    "    G0.add_nodes_from(orig_graph[0].nodes()) # empty graph (only nodes without edges)\n",
    "    Params = {'clust_modul': True,\n",
    "              'classes': classes,\n",
    "              'chi': chi,\n",
    "              #'c': c # put c<1 if want to reproduce a reduced clustering\n",
    "              'memory': True,\n",
    "              'state': state_L_this_t[0],\n",
    "              'absent_nodes':abs_nodes[0]} \n",
    "    edge_list = []\n",
    "    \n",
    "    # SEED GRAPH---------------------------------------------------------------------------------\n",
    "    g0 = nx.configuration_model(list(dict(orig_graph[0].degree()).values())) # first layer: configuration model\n",
    "    graph_seed = generate_seed_graph(orig_graph,g0,d,Params)\n",
    "    nodes = list(graph_seed[0].nodes())\n",
    "    temp_graph = graph_seed\n",
    "    \n",
    "    # FIRST 24H (NOT TO BE SAVED)--------------------------------------------------------------------\n",
    "    relax_time = 24 #hours\n",
    "    for time in tqdm(range(len(graph_seed),int(relax_time*3600/gap)+len(graph_seed))): \n",
    "        diz = dizs[state_e_this_t[time - d]] \n",
    "        Params['chi'] = chi_[state_L_this_t[time]]\n",
    "        Params['classes'] = classes_[state_L_this_t[time]]\n",
    "        Params['state'] = state_L_this_t[time]\n",
    "        graphs_in = temp_graph[-d:]\n",
    "        g_new = generate_next_layer(nodes,graphs_in,diz,d,Params)\n",
    "        temp_graph.append(g_new)\n",
    "    relaxed_seed = temp_graph[-d:]\n",
    "    temp_graph2 = relaxed_seed\n",
    "    # save relaxed seed:\n",
    "    for t in range(d):\n",
    "        edges = list(relaxed_seed[t].edges())\n",
    "        for a,b in edges:\n",
    "            edge_list.append([(t)*gap,a,b])  \n",
    "            \n",
    "    # AFTER FIRST 24H (TO BE SAVED)--------------------------------------------------------------------\n",
    "    for time in tqdm(range(d,nb_graphs)): \n",
    "        diz = dizs[state_e_this_t[time - d]]  \n",
    "        Params['chi'] = chi_[state_L_this_t[time]]\n",
    "        Params['classes'] = classes_[state_L_this_t[time]]\n",
    "        Params['state'] = state_L_this_t[time]\n",
    "        graphs_in = temp_graph[-d:]\n",
    "        g_new = generate_next_layer(nodes,graphs_in,diz,d,Params)\n",
    "        temp_graph.append(g_new)\n",
    "        temp_graph2.append(g_new)\n",
    "\n",
    "        edges = list(g_new.edges())\n",
    "        for a,b in edges:\n",
    "            edge_list.append([(time)*gap,a,b])\n",
    "\n",
    "        # absent nodes\n",
    "        if abs_nodes_flag:\n",
    "            if day < nb_days - 1:\n",
    "                if time == nights_start[day]:\n",
    "                    day += 1\n",
    "                    Params['absent_nodes'] = abs_nodes[day]\n",
    "          \n",
    "    edge_list.append([(time)*gap,0,0])\n",
    "    \n",
    "    # SAVE--------------------------------------------------------------------------------- \n",
    "    new_temporal_graph_name = update_name(dataset,gap,net)\n",
    "    directory = \"Generated_graphs/d%d/\"%d+new_temporal_graph_name\n",
    "    print('directory',directory)\n",
    "    if not os.path.exists(directory):\n",
    "        os.makedirs(directory)\n",
    "    df_edge_list = pd.DataFrame(edge_list,columns=[\"time\",\"node_A\",\"node_B\"])\n",
    "    df_edge_list.to_csv(directory+\"/%d.dat\"%run,sep=\" \",index=False,header=False)\n",
    "    \n",
    "    return temp_graph,edge_list"
   ]
  },
  {
   "cell_type": "markdown",
   "metadata": {},
   "source": [
    "Number of surrogates to generate:"
   ]
  },
  {
   "cell_type": "code",
   "execution_count": 27,
   "metadata": {},
   "outputs": [],
   "source": [
    "runs = 10"
   ]
  },
  {
   "cell_type": "code",
   "execution_count": null,
   "metadata": {},
   "outputs": [],
   "source": []
  },
  {
   "cell_type": "code",
   "execution_count": 28,
   "metadata": {
    "scrolled": false
   },
   "outputs": [
    {
     "name": "stdout",
     "output_type": "stream",
     "text": [
      "run 0\n"
     ]
    },
    {
     "data": {
      "application/vnd.jupyter.widget-view+json": {
       "model_id": "a4d0f8581d3e40d9b3d5e5a4b8e5d30d",
       "version_major": 2,
       "version_minor": 0
      },
      "text/plain": [
       "  0%|          | 0/72 [00:00<?, ?it/s]"
      ]
     },
     "metadata": {},
     "output_type": "display_data"
    },
    {
     "data": {
      "application/vnd.jupyter.widget-view+json": {
       "model_id": "71792783fd03469c9925bcf0e2543444",
       "version_major": 2,
       "version_minor": 0
      },
      "text/plain": [
       "  0%|          | 0/175 [00:00<?, ?it/s]"
      ]
     },
     "metadata": {},
     "output_type": "display_data"
    },
    {
     "name": "stdout",
     "output_type": "stream",
     "text": [
      "directory Generated_graphs/d2/hypertext_EST_gap_1200_20_states_e_3_states_L\n"
     ]
    }
   ],
   "source": [
    "gen_graphs = []\n",
    "for run in range(runs):\n",
    "    print('run',run)\n",
    "    \n",
    "    if net == 'E':\n",
    "        tg,edge_list = generate_and_store_E(orig_graph,\n",
    "                                             d,\n",
    "                                             nb_graphs,\n",
    "                                             dizs,\n",
    "                                             gap,\n",
    "                                             dataset)\n",
    "    \n",
    "    elif net == 'ES':\n",
    "        tg,edge_list = generate_and_store_ES(orig_graph,\n",
    "                                             d,\n",
    "                                             nb_graphs,\n",
    "                                             dizs,\n",
    "                                             gap,\n",
    "                                             dataset,\n",
    "                                             classes_,\n",
    "                                             chi_,\n",
    "                                             state_L_this_t)\n",
    "        \n",
    "    elif net == 'EST':\n",
    "        tg,edge_list = generate_and_store_EST(orig_graph,\n",
    "                                             d,\n",
    "                                             nb_graphs,\n",
    "                                             dizs,\n",
    "                                             gap,\n",
    "                                             dataset,\n",
    "                                             classes_,\n",
    "                                             chi_,\n",
    "                                             state_L_this_t)\n",
    "\n",
    "    gen_graphs.append(tg)\n"
   ]
  },
  {
   "cell_type": "markdown",
   "metadata": {},
   "source": [
    "# Plot nb of interactions:"
   ]
  },
  {
   "cell_type": "code",
   "execution_count": 20,
   "metadata": {},
   "outputs": [],
   "source": [
    "def get_number_of_interactions(graphs):\n",
    "    nb_inter = []\n",
    "    for g in graphs:\n",
    "        nb_inter.append(len(g.edges()))\n",
    "    return nb_inter"
   ]
  },
  {
   "cell_type": "code",
   "execution_count": 21,
   "metadata": {},
   "outputs": [],
   "source": [
    "def compute_avg_std_nb_inter(all_graphs):\n",
    "    nb_int = []\n",
    "    for graph in all_graphs:\n",
    "        \n",
    "        nb_int.append(get_number_of_interactions(graph))\n",
    "\n",
    "    mean_nb_int = np.mean(nb_int,axis=0)\n",
    "    std_nb_int = np.std(nb_int,axis=0)\n",
    "    return mean_nb_int,std_nb_int"
   ]
  },
  {
   "cell_type": "code",
   "execution_count": 22,
   "metadata": {},
   "outputs": [],
   "source": [
    "ORIGINAL_COLOR = \"#424242\"\n",
    "ETN_COLOR = \"#F3AA20\""
   ]
  },
  {
   "cell_type": "code",
   "execution_count": 23,
   "metadata": {},
   "outputs": [],
   "source": [
    "plt.rcParams.update({'font.size': 14})"
   ]
  },
  {
   "cell_type": "code",
   "execution_count": 24,
   "metadata": {},
   "outputs": [],
   "source": [
    "# orig\n",
    "nb_inter_orig = get_number_of_interactions(orig_graph)\n",
    "days_o = np.array(range(len(nb_inter_orig)))*gap/3600/24"
   ]
  },
  {
   "cell_type": "code",
   "execution_count": 25,
   "metadata": {},
   "outputs": [],
   "source": [
    "# generated\n",
    "m,s = compute_avg_std_nb_inter(gen_graphs)\n",
    "days_ma_g = np.array(range(len(m)))*gap/3600/24"
   ]
  },
  {
   "cell_type": "code",
   "execution_count": 26,
   "metadata": {},
   "outputs": [
    {
     "data": {
      "image/png": "[encoded data removed]",
      "text/plain": [
       "<Figure size 1296x216 with 1 Axes>"
      ]
     },
     "metadata": {},
     "output_type": "display_data"
    }
   ],
   "source": [
    "plt.figure(figsize=(18,3))\n",
    "plt.plot(days_o,nb_inter_orig,color=ORIGINAL_COLOR,label=\"Original\")\n",
    "if net == 'E' or net == 'ES':\n",
    "    plt.plot(days_ma_g,m,color=ETN_COLOR,label=\"ETNgen\")\n",
    "    plt.fill_between(days_ma_g,m+s,m-s,color=ETN_COLOR,alpha=0.3)\n",
    "    \n",
    "else:\n",
    "    relax_time = 24 #hours\n",
    "    plt.plot(days_ma_g-relax_time/24,m,color=ETN_COLOR,label=\"ETNgen\")\n",
    "    plt.fill_between(days_ma_g-relax_time/24,m+s,m-s,color=ETN_COLOR,alpha=0.3)\n",
    "plt.ylabel(\"nb of interactions\")\n",
    "plt.xlabel('Time [days]')\n",
    "plt.grid()\n",
    "plt.legend()\n",
    "plt.show()\n"
   ]
  },
  {
   "cell_type": "code",
   "execution_count": null,
   "metadata": {},
   "outputs": [],
   "source": []
  },
  {
   "cell_type": "code",
   "execution_count": null,
   "metadata": {},
   "outputs": [],
   "source": []
  },
  {
   "cell_type": "code",
   "execution_count": null,
   "metadata": {},
   "outputs": [],
   "source": []
  }
 ],
 "metadata": {
  "interpreter": {
   "hash": "bb17086194d7d73ddadbbf43f541071d992a7ee65541854f310228bfe926c80e"
  },
  "kernelspec": {
   "display_name": "Python 3",
   "language": "python",
   "name": "python3"
  },
  "language_info": {
   "codemirror_mode": {
    "name": "ipython",
    "version": 3
   },
   "file_extension": ".py",
   "mimetype": "text/x-python",
   "name": "python",
   "nbconvert_exporter": "python",
   "pygments_lexer": "ipython3",
   "version": "3.7.0"
  }
 },
 "nbformat": 4,
 "nbformat_minor": 4
}
